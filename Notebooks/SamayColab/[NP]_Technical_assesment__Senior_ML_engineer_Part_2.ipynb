{
  "cells": [
    {
      "cell_type": "markdown",
      "metadata": {
        "colab_type": "text",
        "id": "view-in-github"
      },
      "source": [
        "<a href=\"https://colab.research.google.com/github/nikorose87/TechChallengeSamay/blob/main/%5BNP%5D_Technical_assesment__Senior_ML_engineer_Part_2.ipynb\" target=\"_parent\"><img src=\"https://colab.research.google.com/assets/colab-badge.svg\" alt=\"Open In Colab\"/></a>"
      ]
    },
    {
      "cell_type": "markdown",
      "id": "e22e325b",
      "metadata": {
        "id": "e22e325b"
      },
      "source": [
        "<img src=\"https://uploads-ssl.webflow.com/632f50e291252dcd1cf0c08b/63dc0565438858025d69245a_Samay-logo-gradient.png\" width=\"30%\">\n",
        "\n",
        "# Comprehensive Technical Test:\n",
        "## Lung Sound Analysis for Respiratory Health"
      ]
    },
    {
      "cell_type": "markdown",
      "id": "350bff6b",
      "metadata": {
        "id": "350bff6b"
      },
      "source": [
        "# Part 2"
      ]
    },
    {
      "cell_type": "markdown",
      "id": "d0a0cdcd",
      "metadata": {
        "id": "d0a0cdcd"
      },
      "source": [
        "---"
      ]
    },
    {
      "cell_type": "markdown",
      "id": "d41c24fe",
      "metadata": {
        "id": "d41c24fe"
      },
      "source": [
        "The primary goal of this technical test is to design, develop, and optimize a machine learning solution for detecting and classifying *respiratory diseases*. This will be achieved using a dataset of lung sounds recorded with an electronic stethoscope. The comprehensive IPython Notebook delivered should demonstrate the *candidate's proficiency* in analyzing sensor data for health applications, specifically in the context of pulmonary diseases."
      ]
    },
    {
      "cell_type": "markdown",
      "id": "fbf59116",
      "metadata": {
        "id": "fbf59116"
      },
      "source": [
        "## Dataset description\n",
        "\n",
        "The evolution of stethoscope technology has facilitated the high-quality recording of lung sounds from both healthy individuals and those with various pulmonary conditions. This dataset encompasses audio recordings from patients with seven different ailments, including asthma, heart failure, pneumonia, bronchitis, pleural effusion, lung fibrosis, and COPD, alongside normal breathing sounds. Recordings were taken from multiple positions on the chest, as determined by a specialist physician. Each sound was recorded thrice using different frequency filters to highlight specific bodily sounds. This valuable dataset supports the development of automated tools for diagnosing pulmonary diseases through lung sound analysis and can be extended to heart sound studies.\n",
        "\n",
        "<img src=\"https://ars.els-cdn.com/content/image/1-s2.0-S2352340921001979-gr1.jpg\" width=\"50%\">\n",
        "\n",
        "The dataset comprises audio recordings of lung sounds from 112 subjects, captured using an electronic stethoscope. It includes data from 35 healthy individuals and 77 subjects with various respiratory diseases [1, 2, 3].\n",
        "- **Content:** The audio recordings have been filtered through Bell, Diaphragm, and Extended modes to ensure clarity and precision in sound quality.\n",
        "- **Annotations:** Each audio file is annotated with comprehensive details including the type of lung sound, the disease diagnosis, recording location on the subject's chest, as well as the age and gender of the subjects. This information is crucial for the analysis and classification tasks."
      ]
    },
    {
      "cell_type": "code",
      "execution_count": 1,
      "id": "73be2f62",
      "metadata": {
        "execution": {
          "iopub.execute_input": "2023-12-15T16:51:42.357796Z",
          "iopub.status.busy": "2023-12-15T16:51:42.357442Z",
          "iopub.status.idle": "2023-12-15T16:51:42.367552Z",
          "shell.execute_reply": "2023-12-15T16:51:42.366593Z",
          "shell.execute_reply.started": "2023-12-15T16:51:42.357769Z"
        },
        "id": "73be2f62"
      },
      "outputs": [],
      "source": [
        "# Data Manipulation and Analysis\n",
        "import pandas as pd\n",
        "import numpy as np\n",
        "\n",
        "# File System and Path Handling\n",
        "import os\n",
        "import pathlib\n",
        "import warnings\n",
        "warnings.filterwarnings('ignore')\n",
        "\n",
        "# Data Visualization\n",
        "import matplotlib.pyplot as plt\n",
        "import seaborn as sns\n",
        "\n",
        "# Signal Processing\n",
        "import scipy\n",
        "import scipy.io\n",
        "import scipy.io.wavfile\n",
        "from scipy import signal\n",
        "from scipy.fft import fftshift\n",
        "from scipy.io import wavfile\n",
        "import scipy.io.wavfile\n",
        "\n",
        "# Image Manipulation\n",
        "import matplotlib.image as mpimg\n",
        "\n",
        "# Miscellaneous\n",
        "import ntpath\n",
        "import random\n",
        "from IPython import display\n",
        "import time\n",
        "\n",
        "# Audio Processing (Librosa)\n",
        "import librosa.display\n",
        "import soundfile as sf\n",
        "\n",
        "# Importing required libraries for handling HTTP requests and zip files\n",
        "import requests  # Library for making HTTP requests\n",
        "import zipfile   # Library for handling zip files\n",
        "import io        # Library for handling binary data streams"
      ]
    },
    {
      "cell_type": "markdown",
      "id": "a2e4830c",
      "metadata": {
        "id": "a2e4830c"
      },
      "source": [
        "---"
      ]
    },
    {
      "cell_type": "markdown",
      "id": "e246fe59",
      "metadata": {
        "id": "e246fe59"
      },
      "source": [
        "# 1. Loading the dataset"
      ]
    },
    {
      "cell_type": "code",
      "execution_count": 2,
      "id": "23fcdc64",
      "metadata": {
        "id": "23fcdc64",
        "outputId": "674e08a3-3689-48b3-a1c1-1c88cebe2ab3"
      },
      "outputs": [
        {
          "name": "stdout",
          "output_type": "stream",
          "text": [
            "File downloaded and extracted successfully.\n"
          ]
        }
      ],
      "source": [
        "# Obtain the current working directory\n",
        "current_path = os.getcwd()\n",
        "\n",
        "# URL of the ZIP file to be downloaded\n",
        "url = \"https://prod-dcd-datasets-cache-zipfiles.s3.eu-west-1.amazonaws.com/jwyy9np4gv-3.zip\"\n",
        "\n",
        "# Download the ZIP file from the specified URL\n",
        "response = requests.get(url)\n",
        "\n",
        "# Check if the HTTP response status code is 200 (OK)\n",
        "if response.status_code == 200:\n",
        "    # Retrieve the content of the ZIP file\n",
        "    zip_content = response.content\n",
        "\n",
        "    # Extract the content of the ZIP file into a specific folder\n",
        "    with zipfile.ZipFile(io.BytesIO(zip_content), 'r') as zip_ref:\n",
        "        zip_ref.extractall(\"inputdata\")  # Change this to the desired directory path\n",
        "    print(\"File downloaded and extracted successfully.\")\n",
        "else:\n",
        "    print(\"Error downloading the file.\")"
      ]
    },
    {
      "cell_type": "code",
      "execution_count": 3,
      "id": "c7b0bc87",
      "metadata": {
        "id": "c7b0bc87"
      },
      "outputs": [],
      "source": [
        "def extract_nested_zip(zip_file_path, extraction_path):\n",
        "    \"\"\"\n",
        "    Extract a zip file, including any nested zip files.\n",
        "    Delete the zip file after extraction.\n",
        "    \"\"\"\n",
        "    with zipfile.ZipFile(zip_file_path, 'r') as zip_ref:\n",
        "        # Extract all the contents into the directory\n",
        "        zip_ref.extractall(extraction_path)\n",
        "\n",
        "        # Iterate through each file in the extracted files\n",
        "        for file in zip_ref.namelist():\n",
        "            # Check if the file is a zip file\n",
        "            if file.endswith('.zip'):\n",
        "                # Construct full path to the nested zip file\n",
        "                nested_zip_path = os.path.join(extraction_path, file)\n",
        "\n",
        "                # Recursively extract the nested zip file\n",
        "                extract_nested_zip(nested_zip_path, extraction_path)\n",
        "\n",
        "                # Optionally, remove the nested zip file after extraction\n",
        "                os.remove(nested_zip_path)"
      ]
    },
    {
      "cell_type": "code",
      "execution_count": 4,
      "id": "aec88d35",
      "metadata": {
        "id": "aec88d35"
      },
      "outputs": [
        {
          "data": {
            "text/html": [
              "<div>\n",
              "<style scoped>\n",
              "    .dataframe tbody tr th:only-of-type {\n",
              "        vertical-align: middle;\n",
              "    }\n",
              "\n",
              "    .dataframe tbody tr th {\n",
              "        vertical-align: top;\n",
              "    }\n",
              "\n",
              "    .dataframe thead th {\n",
              "        text-align: right;\n",
              "    }\n",
              "</style>\n",
              "<table border=\"1\" class=\"dataframe\">\n",
              "  <thead>\n",
              "    <tr style=\"text-align: right;\">\n",
              "      <th></th>\n",
              "      <th>data</th>\n",
              "      <th>label</th>\n",
              "    </tr>\n",
              "  </thead>\n",
              "  <tbody>\n",
              "    <tr>\n",
              "      <th>219</th>\n",
              "      <td>[0, -2, -9, 14, 128, 205, 61, -136, -284, -663...</td>\n",
              "      <td>n</td>\n",
              "    </tr>\n",
              "    <tr>\n",
              "      <th>126</th>\n",
              "      <td>[0, 0, 0, 0, 0, 0, 0, 0, 0, 0, 1, 1, 1, 2, 2, ...</td>\n",
              "      <td>asthma</td>\n",
              "    </tr>\n",
              "    <tr>\n",
              "      <th>24</th>\n",
              "      <td>[0, 0, 0, -1, -5, -8, -11, -14, -2, 15, 19, 13...</td>\n",
              "      <td>asthma</td>\n",
              "    </tr>\n",
              "  </tbody>\n",
              "</table>\n",
              "</div>"
            ],
            "text/plain": [
              "                                                  data   label\n",
              "219  [0, -2, -9, 14, 128, 205, 61, -136, -284, -663...       n\n",
              "126  [0, 0, 0, 0, 0, 0, 0, 0, 0, 0, 1, 1, 1, 2, 2, ...  asthma\n",
              "24   [0, 0, 0, -1, -5, -8, -11, -14, -2, 15, 19, 13...  asthma"
            ]
          },
          "execution_count": 4,
          "metadata": {},
          "output_type": "execute_result"
        }
      ],
      "source": [
        "dataset_path = current_path + \"/inputdata/\"  # Change this to the extraction path of the main ZIP file\n",
        "\n",
        "# Look for ZIP files in the extraction directory and extract any nested ZIP files\n",
        "for file in os.listdir(dataset_path):\n",
        "    if file.endswith('.zip'):\n",
        "        zip_file_path = os.path.join(dataset_path, file)\n",
        "        extract_nested_zip(zip_file_path, dataset_path)\n",
        "\n",
        "# Define the path to the dataset directory\n",
        "data_dir = pathlib.Path(dataset_path)\n",
        "\n",
        "# List the files in the directory\n",
        "commands = np.array(os.listdir(data_dir))\n",
        "\n",
        "# Filter and remove 'README.md' from the list of files\n",
        "commands = commands[commands != 'README.md']\n",
        "\n",
        "# Split each element in the list by commas, and then by underscores\n",
        "a = [line.split(',') for line in commands]\n",
        "b = [x[0].split('_') for x in a]\n",
        "\n",
        "# Extract the label only if the element has at least two parts\n",
        "label = [c[1] for c in b if len(c) > 1]\n",
        "\n",
        "# Convert labels to lowercase\n",
        "label = [x.lower() for x in label]\n",
        "\n",
        "# Iterate through the labels and perform label consolidation\n",
        "for i in range(336):\n",
        "    if label[i] == 'asthma and lung fibrosis':\n",
        "        label[i] = 'asthma'\n",
        "    elif label[i] == 'heart failure + copd' or label[i] == 'heart failure + lung fibrosis ':\n",
        "        label[i] = 'heart failure'\n",
        "    elif label[i] == 'plueral effusion' or label[i] == 'bron':\n",
        "        label[i] = 'others'\n",
        "    else:\n",
        "        label[i] = label[i]\n",
        "\n",
        "def return_unique_labels(labels):\n",
        "    # Removing duplicates from the list while maintaining the order\n",
        "    unique_labels = []\n",
        "    for label in labels:\n",
        "        if label not in unique_labels:\n",
        "            unique_labels.append(label)\n",
        "    return unique_labels\n",
        "\n",
        "labels = return_unique_labels(label)\n",
        "\n",
        "# Initialize an empty array to store the full paths of WAV files\n",
        "wav_files = []\n",
        "\n",
        "# Iterate through the files in the directory\n",
        "for file in os.listdir(dataset_path):\n",
        "    # Check if the file is a WAV file\n",
        "    if file.endswith(\".wav\"):\n",
        "        # Add the full path of the file to the array\n",
        "        wav_files.append(os.path.join(dataset_path, file))\n",
        "\n",
        "# Initialize an array to store the data of each WAV file\n",
        "wav_data = []\n",
        "\n",
        "# Iterate through the WAV file paths in the wav_files array\n",
        "for filepath in wav_files:\n",
        "    # Read the WAV file using scipy.io.wavfile\n",
        "    sample_rate, data = scipy.io.wavfile.read(filepath)\n",
        "\n",
        "    # Add the data, sample rate, file path, and data type to the wav_data array\n",
        "    wav_data.append({\n",
        "        \"file_path\": filepath,\n",
        "        \"sample_rate\": sample_rate,\n",
        "        \"data\": data,\n",
        "        \"data_type\": data.dtype\n",
        "    })\n",
        "\n",
        "\n",
        "# Ensure the number of labels matches the number of WAV files\n",
        "assert len(label) == len(wav_data)\n",
        "\n",
        "# Extracting only the 'data' from each WAV file\n",
        "data_values = [item['data'] for item in wav_data]\n",
        "\n",
        "# Creating a DataFrame with 'data' and 'label'\n",
        "sound_df = pd.DataFrame({\n",
        "    'data': data_values,  # Column 'data' containing waveform data arrays\n",
        "    'label': label        # Column 'label' containing labels\n",
        "})\n",
        "sound_df.sample(3)"
      ]
    },
    {
      "cell_type": "code",
      "execution_count": 5,
      "id": "f2d5a544",
      "metadata": {},
      "outputs": [
        {
          "data": {
            "text/plain": [
              "label\n",
              "n                105\n",
              "asthma            99\n",
              "heart failure     63\n",
              "copd              27\n",
              "pneumonia         15\n",
              "others            15\n",
              "lung fibrosis     12\n",
              "Name: count, dtype: int64"
            ]
          },
          "execution_count": 5,
          "metadata": {},
          "output_type": "execute_result"
        }
      ],
      "source": [
        "# Display the unique labels and their counts\n",
        "sound_df['label'].value_counts()"
      ]
    },
    {
      "cell_type": "markdown",
      "id": "73a723c4",
      "metadata": {
        "id": "73a723c4"
      },
      "source": [
        "---"
      ]
    },
    {
      "cell_type": "markdown",
      "id": "1f2a2823",
      "metadata": {
        "id": "1f2a2823"
      },
      "source": [
        "# Machine Learning Algorithm Design and Validation\n"
      ]
    },
    {
      "cell_type": "code",
      "execution_count": 6,
      "id": "95067d0e",
      "metadata": {
        "execution": {
          "iopub.execute_input": "2023-12-15T16:52:11.247315Z",
          "iopub.status.busy": "2023-12-15T16:52:11.247024Z",
          "iopub.status.idle": "2023-12-15T16:52:11.345973Z",
          "shell.execute_reply": "2023-12-15T16:52:11.345112Z",
          "shell.execute_reply.started": "2023-12-15T16:52:11.247291Z"
        },
        "id": "95067d0e"
      },
      "outputs": [
        {
          "name": "stdout",
          "output_type": "stream",
          "text": [
            "Maximum length of audio data: 120000\n",
            "Shape of the audio data: (336, 120000)\n"
          ]
        },
        {
          "data": {
            "text/html": [
              "<div>\n",
              "<style scoped>\n",
              "    .dataframe tbody tr th:only-of-type {\n",
              "        vertical-align: middle;\n",
              "    }\n",
              "\n",
              "    .dataframe tbody tr th {\n",
              "        vertical-align: top;\n",
              "    }\n",
              "\n",
              "    .dataframe thead th {\n",
              "        text-align: right;\n",
              "    }\n",
              "</style>\n",
              "<table border=\"1\" class=\"dataframe\">\n",
              "  <thead>\n",
              "    <tr style=\"text-align: right;\">\n",
              "      <th></th>\n",
              "      <th>data</th>\n",
              "      <th>label</th>\n",
              "    </tr>\n",
              "  </thead>\n",
              "  <tbody>\n",
              "    <tr>\n",
              "      <th>49</th>\n",
              "      <td>[0, 0, 0, 0, 1, 1, 1, -1, -8, -23, -48, -80, -...</td>\n",
              "      <td>n</td>\n",
              "    </tr>\n",
              "    <tr>\n",
              "      <th>277</th>\n",
              "      <td>[0, 0, 0, 0, 0, 0, 0, 0, -1, -1, -1, 0, 5, 16,...</td>\n",
              "      <td>n</td>\n",
              "    </tr>\n",
              "    <tr>\n",
              "      <th>182</th>\n",
              "      <td>[0, 0, 0, 0, -1, -1, 0, 3, 9, 21, 38, 59, 79, ...</td>\n",
              "      <td>asthma</td>\n",
              "    </tr>\n",
              "  </tbody>\n",
              "</table>\n",
              "</div>"
            ],
            "text/plain": [
              "                                                  data   label\n",
              "49   [0, 0, 0, 0, 1, 1, 1, -1, -8, -23, -48, -80, -...       n\n",
              "277  [0, 0, 0, 0, 0, 0, 0, 0, -1, -1, -1, 0, 5, 16,...       n\n",
              "182  [0, 0, 0, 0, -1, -1, 0, 3, 9, 21, 38, 59, 79, ...  asthma"
            ]
          },
          "execution_count": 6,
          "metadata": {},
          "output_type": "execute_result"
        }
      ],
      "source": [
        "def pad_audio_data(audio_data, target_length):\n",
        "    # Calculate the number of zeros to add\n",
        "    padding = target_length - len(audio_data)\n",
        "    \n",
        "    # Add zeros at the end of the audio data\n",
        "    padded_data = np.pad(audio_data, (0, padding), 'constant')\n",
        "    return padded_data\n",
        "# Determine the maximum length of audio data in the dataset\n",
        "max_length = max([len(data) for data in sound_df['data']])\n",
        "print(f\"Maximum length of audio data: {max_length}\")\n",
        "# Pad the audio data\n",
        "sound_df['data'] = sound_df['data'].apply(lambda x: pad_audio_data(x, max_length))\n",
        "print(f\"Shape of the audio data: {(sound_df['data'].shape[0], sound_df['data'][0].shape[0])}\")\n",
        "sound_df.sample(3)"
      ]
    },
    {
      "cell_type": "markdown",
      "id": "a64a9039",
      "metadata": {},
      "source": [
        "## Machine Learning process with the provided Dataset\n",
        "\n",
        "The dataset provided replicates the subjects by three. In other words, is redundant, the filter audios (B, D and E) per subject are combined in the same bag. Then, the data exists three times for the same subject and the ML algorithm is not taking advantage of this categorization, including location, sound type or filter.\n",
        "\n",
        "However, let us see how it goes.\n",
        "\n",
        "## Preprocessing\n",
        "\n",
        "We will split the array in each column and generate multiple features. As a second step, we will reduce the dataset with PCA or t-SNE for dimensionality reduction and later see which ML algorithm to apply.\n",
        "\n",
        "### Generating multiple features\n"
      ]
    },
    {
      "cell_type": "code",
      "execution_count": 7,
      "id": "f5ce3950",
      "metadata": {
        "id": "f5ce3950",
        "outputId": "06002212-9b0f-4c85-b383-79b7374ff702"
      },
      "outputs": [
        {
          "data": {
            "text/html": [
              "<div>\n",
              "<style scoped>\n",
              "    .dataframe tbody tr th:only-of-type {\n",
              "        vertical-align: middle;\n",
              "    }\n",
              "\n",
              "    .dataframe tbody tr th {\n",
              "        vertical-align: top;\n",
              "    }\n",
              "\n",
              "    .dataframe thead th {\n",
              "        text-align: right;\n",
              "    }\n",
              "</style>\n",
              "<table border=\"1\" class=\"dataframe\">\n",
              "  <thead>\n",
              "    <tr style=\"text-align: right;\">\n",
              "      <th></th>\n",
              "      <th>label</th>\n",
              "      <th>0</th>\n",
              "      <th>1</th>\n",
              "      <th>2</th>\n",
              "      <th>3</th>\n",
              "      <th>4</th>\n",
              "      <th>5</th>\n",
              "      <th>6</th>\n",
              "      <th>7</th>\n",
              "      <th>8</th>\n",
              "      <th>...</th>\n",
              "      <th>119990</th>\n",
              "      <th>119991</th>\n",
              "      <th>119992</th>\n",
              "      <th>119993</th>\n",
              "      <th>119994</th>\n",
              "      <th>119995</th>\n",
              "      <th>119996</th>\n",
              "      <th>119997</th>\n",
              "      <th>119998</th>\n",
              "      <th>119999</th>\n",
              "    </tr>\n",
              "  </thead>\n",
              "  <tbody>\n",
              "    <tr>\n",
              "      <th>326</th>\n",
              "      <td>n</td>\n",
              "      <td>0</td>\n",
              "      <td>0</td>\n",
              "      <td>0</td>\n",
              "      <td>1</td>\n",
              "      <td>3</td>\n",
              "      <td>3</td>\n",
              "      <td>-5</td>\n",
              "      <td>-15</td>\n",
              "      <td>-19</td>\n",
              "      <td>...</td>\n",
              "      <td>0</td>\n",
              "      <td>0</td>\n",
              "      <td>0</td>\n",
              "      <td>0</td>\n",
              "      <td>0</td>\n",
              "      <td>0</td>\n",
              "      <td>0</td>\n",
              "      <td>0</td>\n",
              "      <td>0</td>\n",
              "      <td>0</td>\n",
              "    </tr>\n",
              "    <tr>\n",
              "      <th>44</th>\n",
              "      <td>n</td>\n",
              "      <td>0</td>\n",
              "      <td>4</td>\n",
              "      <td>18</td>\n",
              "      <td>-22</td>\n",
              "      <td>-236</td>\n",
              "      <td>-553</td>\n",
              "      <td>-705</td>\n",
              "      <td>-529</td>\n",
              "      <td>-124</td>\n",
              "      <td>...</td>\n",
              "      <td>0</td>\n",
              "      <td>0</td>\n",
              "      <td>0</td>\n",
              "      <td>0</td>\n",
              "      <td>0</td>\n",
              "      <td>0</td>\n",
              "      <td>0</td>\n",
              "      <td>0</td>\n",
              "      <td>0</td>\n",
              "      <td>0</td>\n",
              "    </tr>\n",
              "    <tr>\n",
              "      <th>211</th>\n",
              "      <td>n</td>\n",
              "      <td>0</td>\n",
              "      <td>0</td>\n",
              "      <td>0</td>\n",
              "      <td>0</td>\n",
              "      <td>0</td>\n",
              "      <td>0</td>\n",
              "      <td>-1</td>\n",
              "      <td>-5</td>\n",
              "      <td>-11</td>\n",
              "      <td>...</td>\n",
              "      <td>0</td>\n",
              "      <td>0</td>\n",
              "      <td>0</td>\n",
              "      <td>0</td>\n",
              "      <td>0</td>\n",
              "      <td>0</td>\n",
              "      <td>0</td>\n",
              "      <td>0</td>\n",
              "      <td>0</td>\n",
              "      <td>0</td>\n",
              "    </tr>\n",
              "  </tbody>\n",
              "</table>\n",
              "<p>3 rows × 120001 columns</p>\n",
              "</div>"
            ],
            "text/plain": [
              "    label  0  1   2   3    4    5    6    7    8  ...  119990  119991  119992  \\\n",
              "326     n  0  0   0   1    3    3   -5  -15  -19  ...       0       0       0   \n",
              "44      n  0  4  18 -22 -236 -553 -705 -529 -124  ...       0       0       0   \n",
              "211     n  0  0   0   0    0    0   -1   -5  -11  ...       0       0       0   \n",
              "\n",
              "     119993  119994  119995  119996  119997  119998  119999  \n",
              "326       0       0       0       0       0       0       0  \n",
              "44        0       0       0       0       0       0       0  \n",
              "211       0       0       0       0       0       0       0  \n",
              "\n",
              "[3 rows x 120001 columns]"
            ]
          },
          "execution_count": 7,
          "metadata": {},
          "output_type": "execute_result"
        }
      ],
      "source": [
        "# Convert the 'data' column to a 2D array\n",
        "data = np.stack(sound_df['data'].values)\n",
        "\n",
        "# Convert the 2D array to a DataFrame\n",
        "data_df = pd.DataFrame(data)\n",
        "\n",
        "# Concatenate the original DataFrame with the new DataFrame\n",
        "sound_df = pd.concat([sound_df, data_df], axis=1)\n",
        "sound_df.drop('data', axis=1, inplace=True)\n",
        "sound_df.sample(3)"
      ]
    },
    {
      "cell_type": "markdown",
      "id": "d15f74c1",
      "metadata": {},
      "source": [
        "### Minimizing the dimensionality course problem\n",
        "\n",
        "Let us create only three features with the 120K features and see how the model behaves\n"
      ]
    },
    {
      "cell_type": "code",
      "execution_count": 8,
      "id": "d5df28b6",
      "metadata": {},
      "outputs": [
        {
          "data": {
            "text/html": [
              "<div>\n",
              "<style scoped>\n",
              "    .dataframe tbody tr th:only-of-type {\n",
              "        vertical-align: middle;\n",
              "    }\n",
              "\n",
              "    .dataframe tbody tr th {\n",
              "        vertical-align: top;\n",
              "    }\n",
              "\n",
              "    .dataframe thead th {\n",
              "        text-align: right;\n",
              "    }\n",
              "</style>\n",
              "<table border=\"1\" class=\"dataframe\">\n",
              "  <thead>\n",
              "    <tr style=\"text-align: right;\">\n",
              "      <th></th>\n",
              "      <th>label</th>\n",
              "      <th>PCA1</th>\n",
              "      <th>PCA2</th>\n",
              "      <th>PCA3</th>\n",
              "      <th>PCA4</th>\n",
              "      <th>PCA5</th>\n",
              "      <th>PCA6</th>\n",
              "      <th>PCA7</th>\n",
              "      <th>PCA8</th>\n",
              "      <th>PCA9</th>\n",
              "      <th>...</th>\n",
              "      <th>PCA91</th>\n",
              "      <th>PCA92</th>\n",
              "      <th>PCA93</th>\n",
              "      <th>PCA94</th>\n",
              "      <th>PCA95</th>\n",
              "      <th>PCA96</th>\n",
              "      <th>PCA97</th>\n",
              "      <th>PCA98</th>\n",
              "      <th>PCA99</th>\n",
              "      <th>PCA100</th>\n",
              "    </tr>\n",
              "  </thead>\n",
              "  <tbody>\n",
              "    <tr>\n",
              "      <th>120</th>\n",
              "      <td>asthma</td>\n",
              "      <td>830730.985744</td>\n",
              "      <td>306081.022916</td>\n",
              "      <td>-1.110847e+06</td>\n",
              "      <td>1.729400e+06</td>\n",
              "      <td>-187135.859575</td>\n",
              "      <td>40521.964505</td>\n",
              "      <td>-111224.181108</td>\n",
              "      <td>244457.954819</td>\n",
              "      <td>-60257.857656</td>\n",
              "      <td>...</td>\n",
              "      <td>14875.868584</td>\n",
              "      <td>18193.786731</td>\n",
              "      <td>8882.293906</td>\n",
              "      <td>-23688.797842</td>\n",
              "      <td>8899.176269</td>\n",
              "      <td>28718.305246</td>\n",
              "      <td>3938.581811</td>\n",
              "      <td>-1577.972150</td>\n",
              "      <td>9360.767456</td>\n",
              "      <td>-9952.113319</td>\n",
              "    </tr>\n",
              "    <tr>\n",
              "      <th>201</th>\n",
              "      <td>heart failure</td>\n",
              "      <td>128537.802591</td>\n",
              "      <td>125985.799047</td>\n",
              "      <td>2.520778e+04</td>\n",
              "      <td>-9.285185e+04</td>\n",
              "      <td>213214.865148</td>\n",
              "      <td>-168726.727668</td>\n",
              "      <td>116100.293599</td>\n",
              "      <td>-185455.263939</td>\n",
              "      <td>23149.329798</td>\n",
              "      <td>...</td>\n",
              "      <td>34815.111808</td>\n",
              "      <td>-37271.012215</td>\n",
              "      <td>163971.291649</td>\n",
              "      <td>45138.400274</td>\n",
              "      <td>-9149.879702</td>\n",
              "      <td>20369.839472</td>\n",
              "      <td>-42692.867091</td>\n",
              "      <td>-16657.575732</td>\n",
              "      <td>-56971.539430</td>\n",
              "      <td>-8803.032069</td>\n",
              "    </tr>\n",
              "    <tr>\n",
              "      <th>192</th>\n",
              "      <td>n</td>\n",
              "      <td>13310.601706</td>\n",
              "      <td>-22765.175207</td>\n",
              "      <td>-9.344710e+03</td>\n",
              "      <td>-1.838000e+04</td>\n",
              "      <td>1676.628326</td>\n",
              "      <td>10034.460047</td>\n",
              "      <td>-3362.090787</td>\n",
              "      <td>-3558.001339</td>\n",
              "      <td>-5197.533096</td>\n",
              "      <td>...</td>\n",
              "      <td>-14699.440969</td>\n",
              "      <td>7511.529310</td>\n",
              "      <td>-51537.897040</td>\n",
              "      <td>-15157.923822</td>\n",
              "      <td>-6610.812748</td>\n",
              "      <td>30857.586464</td>\n",
              "      <td>-9007.066224</td>\n",
              "      <td>-3755.599487</td>\n",
              "      <td>-60368.338625</td>\n",
              "      <td>-60599.886961</td>\n",
              "    </tr>\n",
              "  </tbody>\n",
              "</table>\n",
              "<p>3 rows × 101 columns</p>\n",
              "</div>"
            ],
            "text/plain": [
              "             label           PCA1           PCA2          PCA3          PCA4  \\\n",
              "120         asthma  830730.985744  306081.022916 -1.110847e+06  1.729400e+06   \n",
              "201  heart failure  128537.802591  125985.799047  2.520778e+04 -9.285185e+04   \n",
              "192              n   13310.601706  -22765.175207 -9.344710e+03 -1.838000e+04   \n",
              "\n",
              "              PCA5           PCA6           PCA7           PCA8          PCA9  \\\n",
              "120 -187135.859575   40521.964505 -111224.181108  244457.954819 -60257.857656   \n",
              "201  213214.865148 -168726.727668  116100.293599 -185455.263939  23149.329798   \n",
              "192    1676.628326   10034.460047   -3362.090787   -3558.001339  -5197.533096   \n",
              "\n",
              "     ...         PCA91         PCA92          PCA93         PCA94  \\\n",
              "120  ...  14875.868584  18193.786731    8882.293906 -23688.797842   \n",
              "201  ...  34815.111808 -37271.012215  163971.291649  45138.400274   \n",
              "192  ... -14699.440969   7511.529310  -51537.897040 -15157.923822   \n",
              "\n",
              "           PCA95         PCA96         PCA97         PCA98         PCA99  \\\n",
              "120  8899.176269  28718.305246   3938.581811  -1577.972150   9360.767456   \n",
              "201 -9149.879702  20369.839472 -42692.867091 -16657.575732 -56971.539430   \n",
              "192 -6610.812748  30857.586464  -9007.066224  -3755.599487 -60368.338625   \n",
              "\n",
              "           PCA100  \n",
              "120  -9952.113319  \n",
              "201  -8803.032069  \n",
              "192 -60599.886961  \n",
              "\n",
              "[3 rows x 101 columns]"
            ]
          },
          "execution_count": 8,
          "metadata": {},
          "output_type": "execute_result"
        }
      ],
      "source": [
        "from sklearn.decomposition import PCA\n",
        "\n",
        "# Select the columns from 0 to 119999\n",
        "data = sound_df.loc[:, 0: 119999]\n",
        "\n",
        "# Define the number of components for PCA\n",
        "num_PCA = 100\n",
        "\n",
        "# Initialize a PCA model\n",
        "pca = PCA(n_components=num_PCA)\n",
        "\n",
        "# Fit the PCA model on the data\n",
        "pca.fit(data)\n",
        "\n",
        "# Transform the data using the fitted PCA model\n",
        "transformed_data = pca.transform(data)\n",
        "\n",
        "# Add the transformed data as new columns in the DataFrame\n",
        "for i in range(transformed_data.shape[1]):\n",
        "    sound_df[f'PCA{i+1}'] = transformed_data[:, i]\n",
        "\n",
        "# Remove the original data columns\n",
        "sound_df.drop(sound_df.loc[:, 0: 119999].columns, axis=1, inplace=True)\n",
        "sound_df.sample(3)"
      ]
    },
    {
      "cell_type": "markdown",
      "id": "5840a0dc",
      "metadata": {},
      "source": [
        "Printing the dimensions to see if they can be differenciated visually"
      ]
    },
    {
      "cell_type": "markdown",
      "id": "0110c4b5",
      "metadata": {},
      "source": [
        "### Performing the ML model\n",
        "\n",
        "Let us see if the generated PCA values can add with the created model in the last part of the evaluation. At first I am going to create the helper function to apply the same model "
      ]
    },
    {
      "cell_type": "markdown",
      "id": "3aa7c13e",
      "metadata": {
        "id": "3aa7c13e"
      },
      "source": [
        "---"
      ]
    },
    {
      "cell_type": "code",
      "execution_count": 14,
      "id": "1ecaba55",
      "metadata": {},
      "outputs": [],
      "source": [
        "from sklearn.model_selection import train_test_split\n",
        "from sklearn.preprocessing import LabelEncoder\n",
        "\n",
        "\n",
        "# Encode the target variable\n",
        "le = LabelEncoder()\n",
        "\n",
        "# Define the features and the target\n",
        "X = sound_df.drop(columns='label')\n",
        "y = le.fit_transform(sound_df['label'])\n",
        "\n",
        "# Split the data into training and testing sets\n",
        "X_train, X_test, y_train, y_test = train_test_split(X, y, test_size=0.4)"
      ]
    },
    {
      "cell_type": "markdown",
      "id": "269ad180",
      "metadata": {},
      "source": [
        "## Base NN model\n",
        "\n",
        "We will propose Deep Neural Networks for this model "
      ]
    },
    {
      "cell_type": "code",
      "execution_count": 15,
      "id": "9d6f064f",
      "metadata": {},
      "outputs": [
        {
          "name": "stdout",
          "output_type": "stream",
          "text": [
            "               precision    recall  f1-score   support\n",
            "\n",
            "       asthma       0.97      0.73      0.83        51\n",
            "         copd       0.50      0.60      0.55        10\n",
            "heart failure       0.76      0.76      0.76        17\n",
            "lung fibrosis       0.50      1.00      0.67         4\n",
            "            n       0.76      0.80      0.78        40\n",
            "       others       0.86      1.00      0.92         6\n",
            "    pneumonia       0.64      1.00      0.78         7\n",
            "\n",
            "     accuracy                           0.78       135\n",
            "    macro avg       0.71      0.84      0.76       135\n",
            " weighted avg       0.81      0.78      0.78       135\n",
            "\n"
          ]
        },
        {
          "data": {
            "image/png": "[encoded data removed]",
            "text/plain": [
              "<Figure size 1000x700 with 2 Axes>"
            ]
          },
          "metadata": {},
          "output_type": "display_data"
        }
      ],
      "source": [
        "import torch\n",
        "from torch import nn\n",
        "from sklearn.metrics import confusion_matrix, classification_report\n",
        "\n",
        "verbose = False\n",
        "num_epochs = 1000\n",
        "class SNN(nn.Module):\n",
        "    def __init__(self, input_size, hidden_size, num_classes):\n",
        "        super(SNN, self).__init__()\n",
        "        self.fc1 = nn.Linear(input_size, hidden_size) \n",
        "        self.relu = nn.ReLU()\n",
        "        self.fc2 = nn.Linear(hidden_size, hidden_size)  \n",
        "        self.fc3 = nn.Linear(hidden_size, num_classes)  \n",
        "    \n",
        "    def forward(self, x):\n",
        "        out = self.fc1(x)\n",
        "        out = self.relu(out)\n",
        "        out = self.fc2(out)\n",
        "        out = self.relu(out)\n",
        "        out = self.fc3(out)\n",
        "        return out\n",
        "\n",
        "# Define the network dimensions\n",
        "input_size = num_PCA  # Number of input features (100 PCA features)\n",
        "hidden_size = 50  # Number of neurons in the hidden layers\n",
        "num_classes = len(labels)  # Number of output classes (change this to match your number of classes)\n",
        "\n",
        "# Initialize the network\n",
        "net = SNN(input_size, hidden_size, num_classes)\n",
        "\n",
        "# Define the loss function and the optimizer\n",
        "criterion = nn.CrossEntropyLoss()\n",
        "optimizer = torch.optim.Adam(net.parameters(), lr=0.001)\n",
        "\n",
        "# Convert the training data to PyTorch tensors\n",
        "X_train_tensor = torch.tensor(X_train.values, dtype=torch.float)\n",
        "y_train_tensor = torch.tensor(y_train, dtype=torch.long)\n",
        "\n",
        "# Train the model\n",
        "for epoch in range(num_epochs):  # Number of epochs\n",
        "    # Forward pass\n",
        "    outputs = net(X_train_tensor)\n",
        "    loss = criterion(outputs, y_train_tensor)\n",
        "    \n",
        "    # Backward and optimize\n",
        "    optimizer.zero_grad()\n",
        "    loss.backward()\n",
        "    optimizer.step()\n",
        "    \n",
        "    if (epoch+1) % 10 == 0 and verbose:\n",
        "        print ('Epoch [{}/{}], Loss: {:.4f}'.format(epoch+1, num_epochs, loss.item()))\n",
        "\n",
        "# Convert the test data to PyTorch tensors\n",
        "X_test_tensor = torch.tensor(X_test.values, dtype=torch.float)\n",
        "y_test_tensor = torch.tensor(y_test, dtype=torch.long)\n",
        "\n",
        "# Get the model's predictions on the test set\n",
        "y_pred_tensor = net(X_test_tensor)\n",
        "_, y_pred = torch.max(y_pred_tensor.data, 1)\n",
        "\n",
        "# Convert the predictions and the true labels back to their original form\n",
        "y_test_labels = le.inverse_transform(y_test_tensor)\n",
        "y_pred_labels = le.inverse_transform(y_pred)\n",
        "\n",
        "# Compute the confusion matrix\n",
        "cm = confusion_matrix(y_test_labels, y_pred_labels)\n",
        "\n",
        "# Create the figure\n",
        "fig, ax = plt.subplots(figsize=(10,7))\n",
        "\n",
        "# Plot the confusion matrix\n",
        "sns.heatmap(cm, annot=True, fmt='d', ax=ax)\n",
        "ax.set_title('Confusion Matrix')\n",
        "ax.set_ylabel('True label')\n",
        "ax.set_xlabel('Predicted label')\n",
        "ax.set_xticks(ticks=np.arange(len(le.classes_))+0.5)\n",
        "ax.set_xticklabels(labels=le.classes_, rotation=90, fontsize=10)\n",
        "ax.set_yticks(ticks=np.arange(len(le.classes_))+0.5)\n",
        "ax.set_yticklabels(labels=le.classes_, rotation=0, fontsize=10)\n",
        "\n",
        "# Compute the classification report\n",
        "report = classification_report(y_test_labels, y_pred_labels)\n",
        "\n",
        "# Print the classification report\n",
        "print(report)\n",
        "\n",
        "# Show the confusion matrix\n",
        "plt.show()"
      ]
    },
    {
      "cell_type": "markdown",
      "id": "41797b67",
      "metadata": {
        "execution": {
          "iopub.execute_input": "2023-12-15T16:52:38.269973Z",
          "iopub.status.busy": "2023-12-15T16:52:38.269564Z",
          "iopub.status.idle": "2023-12-15T16:52:38.275879Z",
          "shell.execute_reply": "2023-12-15T16:52:38.274907Z",
          "shell.execute_reply.started": "2023-12-15T16:52:38.269939Z"
        },
        "id": "41797b67"
      },
      "source": [
        "### Helper Functions\n"
      ]
    },
    {
      "cell_type": "code",
      "execution_count": 19,
      "id": "fa412d09",
      "metadata": {},
      "outputs": [],
      "source": [
        "from torch.nn import functional as F\n",
        "from skorch import NeuralNetClassifier\n",
        "import optuna\n",
        "from optuna.integration import SkorchPruningCallback\n",
        "\n",
        "class HyperparameterTuner:\n",
        "    def __init__(self, X_train, y_train, X_test, y_test, num_classes):\n",
        "        self.X_train = torch.tensor(X_train.values, dtype=torch.float)\n",
        "        self.y_train = torch.tensor(y_train, dtype=torch.long)\n",
        "        self.X_test = torch.tensor(X_test.values, dtype=torch.float)\n",
        "        self.y_test = torch.tensor(y_test, dtype=torch.long)\n",
        "        self.num_classes = num_classes\n",
        "        self.study = None\n",
        "\n",
        "    def objective(self, trial):\n",
        "        # Define the hyperparameters\n",
        "        lr = trial.suggest_loguniform('lr', 1e-6, 1e-1)\n",
        "        hidden_size = trial.suggest_int('hidden_size', 10, 1000)\n",
        "        max_epochs = trial.suggest_int('max_epochs', 100, 1000)\n",
        "\n",
        "        # Define the model\n",
        "        model = NeuralNetClassifier(\n",
        "            SNN,\n",
        "            module__input_size=X_train.shape[1],\n",
        "            module__hidden_size=hidden_size,\n",
        "            module__num_classes=self.num_classes,\n",
        "            max_epochs=max_epochs,\n",
        "            lr=lr,\n",
        "            optimizer=torch.optim.Adam,\n",
        "            criterion=nn.CrossEntropyLoss,\n",
        "            device='cuda' if torch.cuda.is_available() else 'cpu',\n",
        "            callbacks=[SkorchPruningCallback(trial, 'valid_loss')],\n",
        "            verbose=0\n",
        "        )\n",
        "\n",
        "        # Train the model\n",
        "        model.fit(self.X_train, self.y_train)\n",
        "\n",
        "        # Evaluate the model\n",
        "        score = model.score(self.X_test, self.y_test)\n",
        "\n",
        "        return score\n",
        "\n",
        "    def tune(self):\n",
        "        self.study = optuna.create_study(direction='maximize')\n",
        "        self.study.optimize(self.objective, n_trials=50)\n",
        "\n",
        "        return self.study.best_params\n",
        "        \n",
        "    def train_best_model(self):\n",
        "        # Get the best hyperparameters\n",
        "        best_params = self.study.best_params\n",
        "\n",
        "        # Train the model with the best hyperparameters\n",
        "        best_model = NeuralNetClassifier(\n",
        "            SNN,\n",
        "            module__input_size=self.X_train.shape[1],\n",
        "            module__hidden_size=best_params['hidden_size'],\n",
        "            module__num_classes=self.num_classes,\n",
        "            max_epochs=best_params['max_epochs'],\n",
        "            lr=best_params['lr'],\n",
        "            optimizer=torch.optim.Adam,\n",
        "            criterion=nn.CrossEntropyLoss,\n",
        "            device='cuda' if torch.cuda.is_available() else 'cpu',\n",
        "            verbose=0\n",
        "        )\n",
        "        best_model.fit(self.X_train, self.y_train)\n",
        "        return best_model\n",
        "\n",
        "    def plot_confusion_matrix(self, y_true, y_pred):\n",
        "        # Compute the confusion matrix\n",
        "        cm = confusion_matrix(y_true, y_pred)\n",
        "\n",
        "        # Plot the confusion matrix\n",
        "        fig, ax = plt.subplots(figsize=(10, 7))\n",
        "        sns.heatmap(cm, annot=True, fmt='d', ax=ax)\n",
        "        ax.set_title('Confusion Matrix')\n",
        "        ax.set_ylabel('True label')\n",
        "        ax.set_xlabel('Predicted label')\n",
        "        plt.show()\n",
        "\n",
        "    def print_classification_report(self, y_true, y_pred):\n",
        "        # Compute the classification report\n",
        "        report = classification_report(y_true, y_pred)\n",
        "\n",
        "        # Print the classification report\n",
        "        print(report)\n",
        "\n",
        "    def plot_results(self):\n",
        "        best_model = self.train_best_model()\n",
        "        y_pred = best_model.predict(self.X_test)\n",
        "        self.plot_confusion_matrix(self.y_test, y_pred)\n",
        "        self.print_classification_report(self.y_test, y_pred)"
      ]
    },
    {
      "cell_type": "markdown",
      "id": "26ba7b09",
      "metadata": {},
      "source": [
        "Evaluating the model"
      ]
    },
    {
      "cell_type": "code",
      "execution_count": 20,
      "id": "b38400b0",
      "metadata": {},
      "outputs": [
        {
          "name": "stderr",
          "output_type": "stream",
          "text": [
            "[I 2024-05-05 01:23:25,044] A new study created in memory with name: no-name-8cc0ad06-b8f8-4fe7-a18b-c25414000323\n",
            "[I 2024-05-05 01:23:27,838] Trial 0 finished with value: 0.5777777777777777 and parameters: {'lr': 0.02566378697879611, 'hidden_size': 316, 'max_epochs': 454}. Best is trial 0 with value: 0.5777777777777777.\n",
            "[I 2024-05-05 01:23:33,259] Trial 1 finished with value: 0.7481481481481481 and parameters: {'lr': 0.00025456251367561946, 'hidden_size': 997, 'max_epochs': 797}. Best is trial 1 with value: 0.7481481481481481.\n",
            "[I 2024-05-05 01:23:37,622] Trial 2 finished with value: 0.5851851851851851 and parameters: {'lr': 0.021893322364329924, 'hidden_size': 81, 'max_epochs': 762}. Best is trial 1 with value: 0.7481481481481481.\n",
            "[I 2024-05-05 01:23:39,184] Trial 3 finished with value: 0.5777777777777777 and parameters: {'lr': 7.543010533385403e-05, 'hidden_size': 204, 'max_epochs': 278}. Best is trial 1 with value: 0.7481481481481481.\n",
            "[I 2024-05-05 01:23:44,360] Trial 4 finished with value: 0.3333333333333333 and parameters: {'lr': 1.0637835366338802e-06, 'hidden_size': 181, 'max_epochs': 921}. Best is trial 1 with value: 0.7481481481481481.\n",
            "[I 2024-05-05 01:23:44,370] Trial 5 pruned. Trial was pruned at epoch 0.\n",
            "[I 2024-05-05 01:23:44,382] Trial 6 pruned. Trial was pruned at epoch 0.\n",
            "[I 2024-05-05 01:23:44,394] Trial 7 pruned. Trial was pruned at epoch 0.\n",
            "[I 2024-05-05 01:23:49,197] Trial 8 finished with value: 0.7703703703703704 and parameters: {'lr': 0.001380585996541508, 'hidden_size': 479, 'max_epochs': 795}. Best is trial 8 with value: 0.7703703703703704.\n",
            "[I 2024-05-05 01:23:49,210] Trial 9 pruned. Trial was pruned at epoch 0.\n",
            "[I 2024-05-05 01:23:50,006] Trial 10 finished with value: 0.7703703703703704 and parameters: {'lr': 0.005378105677966463, 'hidden_size': 531, 'max_epochs': 128}. Best is trial 8 with value: 0.7703703703703704.\n",
            "[I 2024-05-05 01:23:51,040] Trial 11 finished with value: 0.7407407407407407 and parameters: {'lr': 0.0038635613988822377, 'hidden_size': 547, 'max_epochs': 170}. Best is trial 8 with value: 0.7703703703703704.\n",
            "[I 2024-05-05 01:23:55,044] Trial 12 finished with value: 0.8 and parameters: {'lr': 0.002985412185655337, 'hidden_size': 683, 'max_epochs': 640}. Best is trial 12 with value: 0.8.\n",
            "[I 2024-05-05 01:23:59,380] Trial 13 finished with value: 0.8074074074074075 and parameters: {'lr': 0.002742890616661965, 'hidden_size': 710, 'max_epochs': 682}. Best is trial 13 with value: 0.8074074074074075.\n",
            "[I 2024-05-05 01:24:03,470] Trial 14 finished with value: 0.2962962962962963 and parameters: {'lr': 0.051368365284217114, 'hidden_size': 736, 'max_epochs': 649}. Best is trial 13 with value: 0.8074074074074075.\n",
            "[I 2024-05-05 01:24:07,583] Trial 15 finished with value: 0.7851851851851852 and parameters: {'lr': 0.003594260186919705, 'hidden_size': 770, 'max_epochs': 633}. Best is trial 13 with value: 0.8074074074074075.\n",
            "[I 2024-05-05 01:24:07,616] Trial 16 pruned. Trial was pruned at epoch 0.\n",
            "[I 2024-05-05 01:24:11,931] Trial 17 finished with value: 0.7777777777777778 and parameters: {'lr': 0.009672005086528419, 'hidden_size': 675, 'max_epochs': 674}. Best is trial 13 with value: 0.8074074074074075.\n",
            "[I 2024-05-05 01:24:11,957] Trial 18 pruned. Trial was pruned at epoch 0.\n",
            "[I 2024-05-05 01:24:18,042] Trial 19 finished with value: 0.3111111111111111 and parameters: {'lr': 0.06593585131721019, 'hidden_size': 409, 'max_epochs': 963}. Best is trial 13 with value: 0.8074074074074075.\n",
            "[I 2024-05-05 01:24:18,091] Trial 20 pruned. Trial was pruned at epoch 0.\n",
            "[I 2024-05-05 01:24:22,610] Trial 21 finished with value: 0.7777777777777778 and parameters: {'lr': 0.008355548236583861, 'hidden_size': 790, 'max_epochs': 649}. Best is trial 13 with value: 0.8074074074074075.\n",
            "[I 2024-05-05 01:24:22,632] Trial 22 pruned. Trial was pruned at epoch 0.\n",
            "[I 2024-05-05 01:24:26,546] Trial 23 finished with value: 0.674074074074074 and parameters: {'lr': 0.017708267481534985, 'hidden_size': 867, 'max_epochs': 590}. Best is trial 13 with value: 0.8074074074074075.\n",
            "[I 2024-05-05 01:24:26,574] Trial 24 pruned. Trial was pruned at epoch 0.\n",
            "[I 2024-05-05 01:24:26,597] Trial 25 pruned. Trial was pruned at epoch 0.\n",
            "[I 2024-05-05 01:24:26,627] Trial 26 pruned. Trial was pruned at epoch 0.\n",
            "[I 2024-05-05 01:24:30,483] Trial 27 finished with value: 0.7925925925925926 and parameters: {'lr': 0.010414823685359037, 'hidden_size': 423, 'max_epochs': 592}. Best is trial 13 with value: 0.8074074074074075.\n",
            "[I 2024-05-05 01:24:33,939] Trial 28 finished with value: 0.3333333333333333 and parameters: {'lr': 0.09342823224187959, 'hidden_size': 421, 'max_epochs': 568}. Best is trial 13 with value: 0.8074074074074075.\n",
            "[I 2024-05-05 01:24:36,778] Trial 29 finished with value: 0.8 and parameters: {'lr': 0.012260050287925905, 'hidden_size': 315, 'max_epochs': 471}. Best is trial 13 with value: 0.8074074074074075.\n",
            "[I 2024-05-05 01:24:39,449] Trial 30 finished with value: 0.7407407407407407 and parameters: {'lr': 0.030605139341289438, 'hidden_size': 271, 'max_epochs': 446}. Best is trial 13 with value: 0.8074074074074075.\n",
            "[I 2024-05-05 01:24:39,472] Trial 31 pruned. Trial was pruned at epoch 0.\n",
            "[I 2024-05-05 01:24:41,856] Trial 32 finished with value: 0.31851851851851853 and parameters: {'lr': 0.030737555458014685, 'hidden_size': 342, 'max_epochs': 376}. Best is trial 13 with value: 0.8074074074074075.\n",
            "[I 2024-05-05 01:24:41,883] Trial 33 pruned. Trial was pruned at epoch 0.\n",
            "[I 2024-05-05 01:24:41,909] Trial 34 pruned. Trial was pruned at epoch 0.\n",
            "[I 2024-05-05 01:24:41,935] Trial 35 pruned. Trial was pruned at epoch 0.\n",
            "[I 2024-05-05 01:24:41,969] Trial 36 pruned. Trial was pruned at epoch 0.\n",
            "[I 2024-05-05 01:24:41,998] Trial 37 pruned. Trial was pruned at epoch 0.\n",
            "[I 2024-05-05 01:24:42,031] Trial 38 pruned. Trial was pruned at epoch 0.\n",
            "[I 2024-05-05 01:24:46,969] Trial 39 finished with value: 0.762962962962963 and parameters: {'lr': 0.011817884033211564, 'hidden_size': 574, 'max_epochs': 770}. Best is trial 13 with value: 0.8074074074074075.\n",
            "[I 2024-05-05 01:24:46,991] Trial 40 pruned. Trial was pruned at epoch 0.\n",
            "[I 2024-05-05 01:24:47,019] Trial 41 pruned. Trial was pruned at epoch 0.\n",
            "[I 2024-05-05 01:24:51,288] Trial 42 finished with value: 0.7333333333333333 and parameters: {'lr': 0.014591247295578922, 'hidden_size': 499, 'max_epochs': 683}. Best is trial 13 with value: 0.8074074074074075.\n",
            "[I 2024-05-05 01:24:54,795] Trial 43 finished with value: 0.7777777777777778 and parameters: {'lr': 0.0043635003918971035, 'hidden_size': 693, 'max_epochs': 481}. Best is trial 13 with value: 0.8074074074074075.\n",
            "[I 2024-05-05 01:24:54,833] Trial 44 pruned. Trial was pruned at epoch 0.\n",
            "[I 2024-05-05 01:24:54,871] Trial 45 pruned. Trial was pruned at epoch 0.\n",
            "[I 2024-05-05 01:24:59,585] Trial 46 finished with value: 0.7333333333333333 and parameters: {'lr': 0.04861409719089869, 'hidden_size': 570, 'max_epochs': 734}. Best is trial 13 with value: 0.8074074074074075.\n",
            "[I 2024-05-05 01:24:59,613] Trial 47 pruned. Trial was pruned at epoch 0.\n",
            "[I 2024-05-05 01:25:04,242] Trial 48 finished with value: 0.7777777777777778 and parameters: {'lr': 0.00581585732513615, 'hidden_size': 781, 'max_epochs': 645}. Best is trial 13 with value: 0.8074074074074075.\n",
            "[I 2024-05-05 01:25:04,271] Trial 49 pruned. Trial was pruned at epoch 0.\n"
          ]
        },
        {
          "data": {
            "text/plain": [
              "{'lr': 0.002742890616661965, 'hidden_size': 710, 'max_epochs': 682}"
            ]
          },
          "execution_count": 20,
          "metadata": {},
          "output_type": "execute_result"
        }
      ],
      "source": [
        "Tuner = HyperparameterTuner(X_train, y_train, X_test, y_test, len(np.unique(y_train)))\n",
        "best_params = Tuner.tune()\n",
        "best_params"
      ]
    },
    {
      "cell_type": "code",
      "execution_count": 21,
      "id": "bde4c556",
      "metadata": {},
      "outputs": [
        {
          "data": {
            "image/png": "[encoded data removed]",
            "text/plain": [
              "<Figure size 1000x700 with 2 Axes>"
            ]
          },
          "metadata": {},
          "output_type": "display_data"
        },
        {
          "name": "stdout",
          "output_type": "stream",
          "text": [
            "              precision    recall  f1-score   support\n",
            "\n",
            "           0       1.00      0.73      0.84        51\n",
            "           1       1.00      0.70      0.82        10\n",
            "           2       0.65      0.76      0.70        17\n",
            "           3       1.00      0.50      0.67         4\n",
            "           4       0.60      0.88      0.71        40\n",
            "           5       1.00      1.00      1.00         6\n",
            "           6       1.00      0.71      0.83         7\n",
            "\n",
            "    accuracy                           0.78       135\n",
            "   macro avg       0.89      0.75      0.80       135\n",
            "weighted avg       0.84      0.78      0.79       135\n",
            "\n"
          ]
        }
      ],
      "source": [
        "Tuner.plot_results()\n"
      ]
    },
    {
      "cell_type": "code",
      "execution_count": null,
      "id": "352a011b",
      "metadata": {},
      "outputs": [],
      "source": []
    }
  ],
  "metadata": {
    "colab": {
      "include_colab_link": true,
      "provenance": []
    },
    "kaggle": {
      "accelerator": "nvidiaTeslaT4",
      "dataSources": [],
      "dockerImageVersionId": 30627,
      "isGpuEnabled": true,
      "isInternetEnabled": true,
      "language": "python",
      "sourceType": "notebook"
    },
    "kernelspec": {
      "display_name": "Python 3 (ipykernel)",
      "language": "python",
      "name": "python3"
    },
    "language_info": {
      "codemirror_mode": {
        "name": "ipython",
        "version": 3
      },
      "file_extension": ".py",
      "mimetype": "text/x-python",
      "name": "python",
      "nbconvert_exporter": "python",
      "pygments_lexer": "ipython3",
      "version": "3.11.9"
    }
  },
  "nbformat": 4,
  "nbformat_minor": 5
}
