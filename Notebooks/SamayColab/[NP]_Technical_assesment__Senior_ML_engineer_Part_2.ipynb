{
  "cells": [
    {
      "cell_type": "markdown",
      "metadata": {
        "colab_type": "text",
        "id": "view-in-github"
      },
      "source": [
        "<a href=\"https://colab.research.google.com/github/nikorose87/TechChallengeSamay/blob/main/Notebooks/SamayColab/%5BNP%5D_Technical_assesment__Senior_ML_engineer_Part_2.ipynb\" target=\"_parent\"><img src=\"https://colab.research.google.com/assets/colab-badge.svg\" alt=\"Open In Colab\"/></a>"
      ]
    },
    {
      "cell_type": "markdown",
      "id": "e22e325b",
      "metadata": {
        "id": "e22e325b"
      },
      "source": [
        "<img src=\"https://uploads-ssl.webflow.com/632f50e291252dcd1cf0c08b/63dc0565438858025d69245a_Samay-logo-gradient.png\" width=\"30%\">\n",
        "\n",
        "# Comprehensive Technical Test:\n",
        "## Lung Sound Analysis for Respiratory Health"
      ]
    },
    {
      "cell_type": "markdown",
      "id": "350bff6b",
      "metadata": {
        "id": "350bff6b"
      },
      "source": [
        "# Part 2"
      ]
    },
    {
      "cell_type": "markdown",
      "id": "d0a0cdcd",
      "metadata": {
        "id": "d0a0cdcd"
      },
      "source": [
        "---"
      ]
    },
    {
      "cell_type": "markdown",
      "id": "d41c24fe",
      "metadata": {
        "id": "d41c24fe"
      },
      "source": [
        "The primary goal of this technical test is to design, develop, and optimize a machine learning solution for detecting and classifying *respiratory diseases*. This will be achieved using a dataset of lung sounds recorded with an electronic stethoscope. The comprehensive IPython Notebook delivered should demonstrate the *candidate's proficiency* in analyzing sensor data for health applications, specifically in the context of pulmonary diseases."
      ]
    },
    {
      "cell_type": "markdown",
      "id": "fbf59116",
      "metadata": {
        "id": "fbf59116"
      },
      "source": [
        "## Dataset description\n",
        "\n",
        "The evolution of stethoscope technology has facilitated the high-quality recording of lung sounds from both healthy individuals and those with various pulmonary conditions. This dataset encompasses audio recordings from patients with seven different ailments, including asthma, heart failure, pneumonia, bronchitis, pleural effusion, lung fibrosis, and COPD, alongside normal breathing sounds. Recordings were taken from multiple positions on the chest, as determined by a specialist physician. Each sound was recorded thrice using different frequency filters to highlight specific bodily sounds. This valuable dataset supports the development of automated tools for diagnosing pulmonary diseases through lung sound analysis and can be extended to heart sound studies.\n",
        "\n",
        "<img src=\"https://ars.els-cdn.com/content/image/1-s2.0-S2352340921001979-gr1.jpg\" width=\"50%\">\n",
        "\n",
        "The dataset comprises audio recordings of lung sounds from 112 subjects, captured using an electronic stethoscope. It includes data from 35 healthy individuals and 77 subjects with various respiratory diseases [1, 2, 3].\n",
        "- **Content:** The audio recordings have been filtered through Bell, Diaphragm, and Extended modes to ensure clarity and precision in sound quality.\n",
        "- **Annotations:** Each audio file is annotated with comprehensive details including the type of lung sound, the disease diagnosis, recording location on the subject's chest, as well as the age and gender of the subjects. This information is crucial for the analysis and classification tasks."
      ]
    },
    {
      "cell_type": "code",
      "execution_count": 1,
      "id": "73be2f62",
      "metadata": {
        "execution": {
          "iopub.execute_input": "2023-12-15T16:51:42.357796Z",
          "iopub.status.busy": "2023-12-15T16:51:42.357442Z",
          "iopub.status.idle": "2023-12-15T16:51:42.367552Z",
          "shell.execute_reply": "2023-12-15T16:51:42.366593Z",
          "shell.execute_reply.started": "2023-12-15T16:51:42.357769Z"
        },
        "id": "73be2f62"
      },
      "outputs": [],
      "source": [
        "# Data Manipulation and Analysis\n",
        "import pandas as pd\n",
        "import numpy as np\n",
        "\n",
        "# File System and Path Handling\n",
        "import os\n",
        "import pathlib\n",
        "import warnings\n",
        "warnings.filterwarnings('ignore')\n",
        "\n",
        "# Data Visualization\n",
        "import matplotlib.pyplot as plt\n",
        "import seaborn as sns\n",
        "\n",
        "# Signal Processing\n",
        "import scipy\n",
        "import scipy.io\n",
        "import scipy.io.wavfile\n",
        "from scipy import signal\n",
        "from scipy.fft import fftshift\n",
        "from scipy.io import wavfile\n",
        "import scipy.io.wavfile\n",
        "\n",
        "# Image Manipulation\n",
        "import matplotlib.image as mpimg\n",
        "\n",
        "# Miscellaneous\n",
        "import ntpath\n",
        "import random\n",
        "from IPython import display\n",
        "import time\n",
        "\n",
        "# Audio Processing (Librosa)\n",
        "import librosa.display\n",
        "import soundfile as sf\n",
        "\n",
        "# Importing required libraries for handling HTTP requests and zip files\n",
        "import requests  # Library for making HTTP requests\n",
        "import zipfile   # Library for handling zip files\n",
        "import io        # Library for handling binary data streams"
      ]
    },
    {
      "cell_type": "markdown",
      "id": "EDlxxzPv0uW2",
      "metadata": {
        "id": "EDlxxzPv0uW2"
      },
      "source": [
        "# 0. Installing dependencies"
      ]
    },
    {
      "cell_type": "code",
      "execution_count": 2,
      "id": "qtkA5w_-0yfC",
      "metadata": {
        "colab": {
          "base_uri": "https://localhost:8080/"
        },
        "id": "qtkA5w_-0yfC",
        "outputId": "765898ab-e892-442d-ee33-1cd692371079"
      },
      "outputs": [
        {
          "name": "stdout",
          "output_type": "stream",
          "text": [
            "Please install packages manually.\n"
          ]
        }
      ],
      "source": [
        "import sys\n",
        "\n",
        "def install_in_case():\n",
        "    if 'google.colab' in sys.modules:\n",
        "        !pip install -U skorch\n",
        "        !pip install optuna\n",
        "        !pip install optuna-integration\n",
        "    else:\n",
        "        print(f\"Please install packages manually.\")\n",
        "\n",
        "install_in_case()"
      ]
    },
    {
      "cell_type": "markdown",
      "id": "a2e4830c",
      "metadata": {
        "id": "a2e4830c"
      },
      "source": [
        "---"
      ]
    },
    {
      "cell_type": "markdown",
      "id": "e246fe59",
      "metadata": {
        "id": "e246fe59"
      },
      "source": [
        "# 1. Loading the dataset"
      ]
    },
    {
      "cell_type": "code",
      "execution_count": 3,
      "id": "23fcdc64",
      "metadata": {
        "colab": {
          "base_uri": "https://localhost:8080/"
        },
        "id": "23fcdc64",
        "outputId": "05ab57fd-3b57-4775-871a-e04dd80f4172"
      },
      "outputs": [
        {
          "name": "stdout",
          "output_type": "stream",
          "text": [
            "File downloaded and extracted successfully.\n"
          ]
        }
      ],
      "source": [
        "# Obtain the current working directory\n",
        "current_path = os.getcwd()\n",
        "\n",
        "# URL of the ZIP file to be downloaded\n",
        "url = \"https://prod-dcd-datasets-cache-zipfiles.s3.eu-west-1.amazonaws.com/jwyy9np4gv-3.zip\"\n",
        "\n",
        "# Download the ZIP file from the specified URL\n",
        "response = requests.get(url)\n",
        "\n",
        "# Check if the HTTP response status code is 200 (OK)\n",
        "if response.status_code == 200:\n",
        "    # Retrieve the content of the ZIP file\n",
        "    zip_content = response.content\n",
        "\n",
        "    # Extract the content of the ZIP file into a specific folder\n",
        "    with zipfile.ZipFile(io.BytesIO(zip_content), 'r') as zip_ref:\n",
        "        zip_ref.extractall(\"inputdata\")  # Change this to the desired directory path\n",
        "    print(\"File downloaded and extracted successfully.\")\n",
        "else:\n",
        "    print(\"Error downloading the file.\")"
      ]
    },
    {
      "cell_type": "code",
      "execution_count": 4,
      "id": "c7b0bc87",
      "metadata": {
        "id": "c7b0bc87"
      },
      "outputs": [],
      "source": [
        "def extract_nested_zip(zip_file_path, extraction_path):\n",
        "    \"\"\"\n",
        "    Extract a zip file, including any nested zip files.\n",
        "    Delete the zip file after extraction.\n",
        "    \"\"\"\n",
        "    with zipfile.ZipFile(zip_file_path, 'r') as zip_ref:\n",
        "        # Extract all the contents into the directory\n",
        "        zip_ref.extractall(extraction_path)\n",
        "\n",
        "        # Iterate through each file in the extracted files\n",
        "        for file in zip_ref.namelist():\n",
        "            # Check if the file is a zip file\n",
        "            if file.endswith('.zip'):\n",
        "                # Construct full path to the nested zip file\n",
        "                nested_zip_path = os.path.join(extraction_path, file)\n",
        "\n",
        "                # Recursively extract the nested zip file\n",
        "                extract_nested_zip(nested_zip_path, extraction_path)\n",
        "\n",
        "                # Optionally, remove the nested zip file after extraction\n",
        "                os.remove(nested_zip_path)"
      ]
    },
    {
      "cell_type": "code",
      "execution_count": 5,
      "id": "aec88d35",
      "metadata": {
        "colab": {
          "base_uri": "https://localhost:8080/",
          "height": 143
        },
        "id": "aec88d35",
        "outputId": "30d0d520-78db-491f-cd18-6df863731753"
      },
      "outputs": [
        {
          "data": {
            "text/html": [
              "<div>\n",
              "<style scoped>\n",
              "    .dataframe tbody tr th:only-of-type {\n",
              "        vertical-align: middle;\n",
              "    }\n",
              "\n",
              "    .dataframe tbody tr th {\n",
              "        vertical-align: top;\n",
              "    }\n",
              "\n",
              "    .dataframe thead th {\n",
              "        text-align: right;\n",
              "    }\n",
              "</style>\n",
              "<table border=\"1\" class=\"dataframe\">\n",
              "  <thead>\n",
              "    <tr style=\"text-align: right;\">\n",
              "      <th></th>\n",
              "      <th>data</th>\n",
              "      <th>label</th>\n",
              "    </tr>\n",
              "  </thead>\n",
              "  <tbody>\n",
              "    <tr>\n",
              "      <th>268</th>\n",
              "      <td>[0, 0, -1, 0, 10, 35, 68, 90, 95, 96, 113, 167...</td>\n",
              "      <td>copd</td>\n",
              "    </tr>\n",
              "    <tr>\n",
              "      <th>169</th>\n",
              "      <td>[0, -1, -4, 0, 42, 127, 227, 318, 386, 444, 52...</td>\n",
              "      <td>pneumonia</td>\n",
              "    </tr>\n",
              "    <tr>\n",
              "      <th>60</th>\n",
              "      <td>[0, 0, 0, 0, 0, 1, 1, 1, 0, -5, -16, -39, -78,...</td>\n",
              "      <td>asthma</td>\n",
              "    </tr>\n",
              "  </tbody>\n",
              "</table>\n",
              "</div>"
            ],
            "text/plain": [
              "                                                  data      label\n",
              "268  [0, 0, -1, 0, 10, 35, 68, 90, 95, 96, 113, 167...       copd\n",
              "169  [0, -1, -4, 0, 42, 127, 227, 318, 386, 444, 52...  pneumonia\n",
              "60   [0, 0, 0, 0, 0, 1, 1, 1, 0, -5, -16, -39, -78,...     asthma"
            ]
          },
          "execution_count": 5,
          "metadata": {},
          "output_type": "execute_result"
        }
      ],
      "source": [
        "dataset_path = current_path + \"/inputdata/\"  # Change this to the extraction path of the main ZIP file\n",
        "\n",
        "# Look for ZIP files in the extraction directory and extract any nested ZIP files\n",
        "for file in os.listdir(dataset_path):\n",
        "    if file.endswith('.zip'):\n",
        "        zip_file_path = os.path.join(dataset_path, file)\n",
        "        extract_nested_zip(zip_file_path, dataset_path)\n",
        "\n",
        "# Define the path to the dataset directory\n",
        "data_dir = pathlib.Path(dataset_path)\n",
        "\n",
        "# List the files in the directory\n",
        "commands = np.array(os.listdir(data_dir))\n",
        "\n",
        "# Filter and remove 'README.md' from the list of files\n",
        "commands = commands[commands != 'README.md']\n",
        "\n",
        "# Split each element in the list by commas, and then by underscores\n",
        "a = [line.split(',') for line in commands]\n",
        "b = [x[0].split('_') for x in a]\n",
        "\n",
        "# Extract the label only if the element has at least two parts\n",
        "label = [c[1] for c in b if len(c) > 1]\n",
        "\n",
        "# Convert labels to lowercase\n",
        "label = [x.lower() for x in label]\n",
        "\n",
        "# Iterate through the labels and perform label consolidation\n",
        "for i in range(336):\n",
        "    if label[i] == 'asthma and lung fibrosis':\n",
        "        label[i] = 'asthma'\n",
        "    elif label[i] == 'heart failure + copd' or label[i] == 'heart failure + lung fibrosis ':\n",
        "        label[i] = 'heart failure'\n",
        "    elif label[i] == 'plueral effusion' or label[i] == 'bron':\n",
        "        label[i] = 'others'\n",
        "    else:\n",
        "        label[i] = label[i]\n",
        "\n",
        "def return_unique_labels(labels):\n",
        "    # Removing duplicates from the list while maintaining the order\n",
        "    unique_labels = []\n",
        "    for label in labels:\n",
        "        if label not in unique_labels:\n",
        "            unique_labels.append(label)\n",
        "    return unique_labels\n",
        "\n",
        "labels = return_unique_labels(label)\n",
        "\n",
        "# Initialize an empty array to store the full paths of WAV files\n",
        "wav_files = []\n",
        "\n",
        "# Iterate through the files in the directory\n",
        "for file in os.listdir(dataset_path):\n",
        "    # Check if the file is a WAV file\n",
        "    if file.endswith(\".wav\"):\n",
        "        # Add the full path of the file to the array\n",
        "        wav_files.append(os.path.join(dataset_path, file))\n",
        "\n",
        "# Initialize an array to store the data of each WAV file\n",
        "wav_data = []\n",
        "\n",
        "# Iterate through the WAV file paths in the wav_files array\n",
        "for filepath in wav_files:\n",
        "    # Read the WAV file using scipy.io.wavfile\n",
        "    sample_rate, data = scipy.io.wavfile.read(filepath)\n",
        "\n",
        "    # Add the data, sample rate, file path, and data type to the wav_data array\n",
        "    wav_data.append({\n",
        "        \"file_path\": filepath,\n",
        "        \"sample_rate\": sample_rate,\n",
        "        \"data\": data,\n",
        "        \"data_type\": data.dtype\n",
        "    })\n",
        "\n",
        "\n",
        "# Ensure the number of labels matches the number of WAV files\n",
        "assert len(label) == len(wav_data)\n",
        "\n",
        "# Extracting only the 'data' from each WAV file\n",
        "data_values = [item['data'] for item in wav_data]\n",
        "\n",
        "# Creating a DataFrame with 'data' and 'label'\n",
        "sound_df = pd.DataFrame({\n",
        "    'data': data_values,  # Column 'data' containing waveform data arrays\n",
        "    'label': label        # Column 'label' containing labels\n",
        "})\n",
        "sound_df.sample(3)"
      ]
    },
    {
      "cell_type": "code",
      "execution_count": 6,
      "id": "f2d5a544",
      "metadata": {
        "colab": {
          "base_uri": "https://localhost:8080/"
        },
        "id": "f2d5a544",
        "outputId": "a906f57d-d8f0-43b0-e8f6-fa282617c36e"
      },
      "outputs": [
        {
          "data": {
            "text/plain": [
              "label\n",
              "n                105\n",
              "asthma            99\n",
              "heart failure     63\n",
              "copd              27\n",
              "pneumonia         15\n",
              "others            15\n",
              "lung fibrosis     12\n",
              "Name: count, dtype: int64"
            ]
          },
          "execution_count": 6,
          "metadata": {},
          "output_type": "execute_result"
        }
      ],
      "source": [
        "# Display the unique labels and their counts\n",
        "sound_df['label'].value_counts()"
      ]
    },
    {
      "cell_type": "markdown",
      "id": "73a723c4",
      "metadata": {
        "id": "73a723c4"
      },
      "source": [
        "---"
      ]
    },
    {
      "cell_type": "markdown",
      "id": "1f2a2823",
      "metadata": {
        "id": "1f2a2823"
      },
      "source": [
        "# Machine Learning Algorithm Design and Validation\n"
      ]
    },
    {
      "cell_type": "code",
      "execution_count": 7,
      "id": "95067d0e",
      "metadata": {
        "colab": {
          "base_uri": "https://localhost:8080/",
          "height": 178
        },
        "execution": {
          "iopub.execute_input": "2023-12-15T16:52:11.247315Z",
          "iopub.status.busy": "2023-12-15T16:52:11.247024Z",
          "iopub.status.idle": "2023-12-15T16:52:11.345973Z",
          "shell.execute_reply": "2023-12-15T16:52:11.345112Z",
          "shell.execute_reply.started": "2023-12-15T16:52:11.247291Z"
        },
        "id": "95067d0e",
        "outputId": "4f82e8b7-0368-4739-bf4b-a5954e8ce959"
      },
      "outputs": [
        {
          "name": "stdout",
          "output_type": "stream",
          "text": [
            "Maximum length of audio data: 120000\n",
            "Shape of the audio data: (336, 120000)\n"
          ]
        },
        {
          "data": {
            "text/html": [
              "<div>\n",
              "<style scoped>\n",
              "    .dataframe tbody tr th:only-of-type {\n",
              "        vertical-align: middle;\n",
              "    }\n",
              "\n",
              "    .dataframe tbody tr th {\n",
              "        vertical-align: top;\n",
              "    }\n",
              "\n",
              "    .dataframe thead th {\n",
              "        text-align: right;\n",
              "    }\n",
              "</style>\n",
              "<table border=\"1\" class=\"dataframe\">\n",
              "  <thead>\n",
              "    <tr style=\"text-align: right;\">\n",
              "      <th></th>\n",
              "      <th>data</th>\n",
              "      <th>label</th>\n",
              "    </tr>\n",
              "  </thead>\n",
              "  <tbody>\n",
              "    <tr>\n",
              "      <th>225</th>\n",
              "      <td>[0, 0, 0, 0, 1, 2, 2, 1, -5, -19, -47, -92, -1...</td>\n",
              "      <td>n</td>\n",
              "    </tr>\n",
              "    <tr>\n",
              "      <th>242</th>\n",
              "      <td>[0, 0, 2, 0, -16, -49, -96, -147, -182, -189, ...</td>\n",
              "      <td>n</td>\n",
              "    </tr>\n",
              "    <tr>\n",
              "      <th>93</th>\n",
              "      <td>[0, -4, -15, 31, 210, 361, 268, 26, -176, -326...</td>\n",
              "      <td>asthma</td>\n",
              "    </tr>\n",
              "  </tbody>\n",
              "</table>\n",
              "</div>"
            ],
            "text/plain": [
              "                                                  data   label\n",
              "225  [0, 0, 0, 0, 1, 2, 2, 1, -5, -19, -47, -92, -1...       n\n",
              "242  [0, 0, 2, 0, -16, -49, -96, -147, -182, -189, ...       n\n",
              "93   [0, -4, -15, 31, 210, 361, 268, 26, -176, -326...  asthma"
            ]
          },
          "execution_count": 7,
          "metadata": {},
          "output_type": "execute_result"
        }
      ],
      "source": [
        "def pad_audio_data(audio_data, target_length):\n",
        "    # Calculate the number of zeros to add\n",
        "    padding = target_length - len(audio_data)\n",
        "\n",
        "    # Add zeros at the end of the audio data\n",
        "    padded_data = np.pad(audio_data, (0, padding), 'constant')\n",
        "    return padded_data\n",
        "# Determine the maximum length of audio data in the dataset\n",
        "max_length = max([len(data) for data in sound_df['data']])\n",
        "print(f\"Maximum length of audio data: {max_length}\")\n",
        "# Pad the audio data\n",
        "sound_df['data'] = sound_df['data'].apply(lambda x: pad_audio_data(x, max_length))\n",
        "print(f\"Shape of the audio data: {(sound_df['data'].shape[0], sound_df['data'][0].shape[0])}\")\n",
        "sound_df.sample(3)"
      ]
    },
    {
      "cell_type": "markdown",
      "id": "a64a9039",
      "metadata": {
        "id": "a64a9039"
      },
      "source": [
        "## Machine Learning process with the provided Dataset\n",
        "\n",
        "The dataset provided replicates the subjects by three. In other words, is redundant, the filter audios (B, D and E) per subject are combined in the same bag. Then, the data exists three times for the same subject and the ML algorithm is not taking advantage of this categorization, including location, sound type or filter.\n",
        "\n",
        "However, let us see how it goes.\n",
        "\n",
        "## Preprocessing\n",
        "\n",
        "We will split the array in each column and generate multiple features. As a second step, we will reduce the dataset with PCA or t-SNE for dimensionality reduction and later see which ML algorithm to apply.\n",
        "\n",
        "### Generating multiple features\n"
      ]
    },
    {
      "cell_type": "code",
      "execution_count": 8,
      "id": "f5ce3950",
      "metadata": {
        "colab": {
          "base_uri": "https://localhost:8080/",
          "height": 210
        },
        "id": "f5ce3950",
        "outputId": "8df0c54a-3c5d-487c-9ab0-487f0ea75b88"
      },
      "outputs": [
        {
          "data": {
            "text/html": [
              "<div>\n",
              "<style scoped>\n",
              "    .dataframe tbody tr th:only-of-type {\n",
              "        vertical-align: middle;\n",
              "    }\n",
              "\n",
              "    .dataframe tbody tr th {\n",
              "        vertical-align: top;\n",
              "    }\n",
              "\n",
              "    .dataframe thead th {\n",
              "        text-align: right;\n",
              "    }\n",
              "</style>\n",
              "<table border=\"1\" class=\"dataframe\">\n",
              "  <thead>\n",
              "    <tr style=\"text-align: right;\">\n",
              "      <th></th>\n",
              "      <th>label</th>\n",
              "      <th>0</th>\n",
              "      <th>1</th>\n",
              "      <th>2</th>\n",
              "      <th>3</th>\n",
              "      <th>4</th>\n",
              "      <th>5</th>\n",
              "      <th>6</th>\n",
              "      <th>7</th>\n",
              "      <th>8</th>\n",
              "      <th>...</th>\n",
              "      <th>119990</th>\n",
              "      <th>119991</th>\n",
              "      <th>119992</th>\n",
              "      <th>119993</th>\n",
              "      <th>119994</th>\n",
              "      <th>119995</th>\n",
              "      <th>119996</th>\n",
              "      <th>119997</th>\n",
              "      <th>119998</th>\n",
              "      <th>119999</th>\n",
              "    </tr>\n",
              "  </thead>\n",
              "  <tbody>\n",
              "    <tr>\n",
              "      <th>221</th>\n",
              "      <td>heart failure</td>\n",
              "      <td>0</td>\n",
              "      <td>0</td>\n",
              "      <td>0</td>\n",
              "      <td>0</td>\n",
              "      <td>-1</td>\n",
              "      <td>-2</td>\n",
              "      <td>-6</td>\n",
              "      <td>-8</td>\n",
              "      <td>-7</td>\n",
              "      <td>...</td>\n",
              "      <td>0</td>\n",
              "      <td>0</td>\n",
              "      <td>0</td>\n",
              "      <td>0</td>\n",
              "      <td>0</td>\n",
              "      <td>0</td>\n",
              "      <td>0</td>\n",
              "      <td>0</td>\n",
              "      <td>0</td>\n",
              "      <td>0</td>\n",
              "    </tr>\n",
              "    <tr>\n",
              "      <th>183</th>\n",
              "      <td>asthma</td>\n",
              "      <td>-1</td>\n",
              "      <td>3</td>\n",
              "      <td>-3</td>\n",
              "      <td>-26</td>\n",
              "      <td>29</td>\n",
              "      <td>227</td>\n",
              "      <td>427</td>\n",
              "      <td>472</td>\n",
              "      <td>407</td>\n",
              "      <td>...</td>\n",
              "      <td>0</td>\n",
              "      <td>0</td>\n",
              "      <td>0</td>\n",
              "      <td>0</td>\n",
              "      <td>0</td>\n",
              "      <td>0</td>\n",
              "      <td>0</td>\n",
              "      <td>0</td>\n",
              "      <td>0</td>\n",
              "      <td>0</td>\n",
              "    </tr>\n",
              "    <tr>\n",
              "      <th>264</th>\n",
              "      <td>n</td>\n",
              "      <td>-3</td>\n",
              "      <td>-3</td>\n",
              "      <td>22</td>\n",
              "      <td>74</td>\n",
              "      <td>118</td>\n",
              "      <td>137</td>\n",
              "      <td>127</td>\n",
              "      <td>110</td>\n",
              "      <td>116</td>\n",
              "      <td>...</td>\n",
              "      <td>0</td>\n",
              "      <td>0</td>\n",
              "      <td>0</td>\n",
              "      <td>0</td>\n",
              "      <td>0</td>\n",
              "      <td>0</td>\n",
              "      <td>0</td>\n",
              "      <td>0</td>\n",
              "      <td>0</td>\n",
              "      <td>0</td>\n",
              "    </tr>\n",
              "  </tbody>\n",
              "</table>\n",
              "<p>3 rows × 120001 columns</p>\n",
              "</div>"
            ],
            "text/plain": [
              "             label  0  1   2   3    4    5    6    7    8  ...  119990  \\\n",
              "221  heart failure  0  0   0   0   -1   -2   -6   -8   -7  ...       0   \n",
              "183         asthma -1  3  -3 -26   29  227  427  472  407  ...       0   \n",
              "264              n -3 -3  22  74  118  137  127  110  116  ...       0   \n",
              "\n",
              "     119991  119992  119993  119994  119995  119996  119997  119998  119999  \n",
              "221       0       0       0       0       0       0       0       0       0  \n",
              "183       0       0       0       0       0       0       0       0       0  \n",
              "264       0       0       0       0       0       0       0       0       0  \n",
              "\n",
              "[3 rows x 120001 columns]"
            ]
          },
          "execution_count": 8,
          "metadata": {},
          "output_type": "execute_result"
        }
      ],
      "source": [
        "# Convert the 'data' column to a 2D array\n",
        "data = np.stack(sound_df['data'].values)\n",
        "\n",
        "# Convert the 2D array to a DataFrame\n",
        "data_df = pd.DataFrame(data)\n",
        "\n",
        "# Concatenate the original DataFrame with the new DataFrame\n",
        "sound_df = pd.concat([sound_df, data_df], axis=1)\n",
        "sound_df.drop('data', axis=1, inplace=True)\n",
        "sound_df.sample(3)"
      ]
    },
    {
      "cell_type": "markdown",
      "id": "d15f74c1",
      "metadata": {
        "id": "d15f74c1"
      },
      "source": [
        "### Minimizing the dimensionality course problem\n",
        "\n",
        "Let us create only three features with the 120K features and see how the model behaves\n"
      ]
    },
    {
      "cell_type": "code",
      "execution_count": 9,
      "id": "d5df28b6",
      "metadata": {
        "colab": {
          "base_uri": "https://localhost:8080/",
          "height": 210
        },
        "id": "d5df28b6",
        "outputId": "faab1195-5c09-4fab-c4e3-afc911a9f06d"
      },
      "outputs": [
        {
          "data": {
            "text/html": [
              "<div>\n",
              "<style scoped>\n",
              "    .dataframe tbody tr th:only-of-type {\n",
              "        vertical-align: middle;\n",
              "    }\n",
              "\n",
              "    .dataframe tbody tr th {\n",
              "        vertical-align: top;\n",
              "    }\n",
              "\n",
              "    .dataframe thead th {\n",
              "        text-align: right;\n",
              "    }\n",
              "</style>\n",
              "<table border=\"1\" class=\"dataframe\">\n",
              "  <thead>\n",
              "    <tr style=\"text-align: right;\">\n",
              "      <th></th>\n",
              "      <th>label</th>\n",
              "      <th>PCA1</th>\n",
              "      <th>PCA2</th>\n",
              "      <th>PCA3</th>\n",
              "      <th>PCA4</th>\n",
              "      <th>PCA5</th>\n",
              "      <th>PCA6</th>\n",
              "      <th>PCA7</th>\n",
              "      <th>PCA8</th>\n",
              "      <th>PCA9</th>\n",
              "      <th>...</th>\n",
              "      <th>PCA91</th>\n",
              "      <th>PCA92</th>\n",
              "      <th>PCA93</th>\n",
              "      <th>PCA94</th>\n",
              "      <th>PCA95</th>\n",
              "      <th>PCA96</th>\n",
              "      <th>PCA97</th>\n",
              "      <th>PCA98</th>\n",
              "      <th>PCA99</th>\n",
              "      <th>PCA100</th>\n",
              "    </tr>\n",
              "  </thead>\n",
              "  <tbody>\n",
              "    <tr>\n",
              "      <th>138</th>\n",
              "      <td>heart failure</td>\n",
              "      <td>-184645.360385</td>\n",
              "      <td>-14118.375587</td>\n",
              "      <td>20585.252520</td>\n",
              "      <td>-5026.434728</td>\n",
              "      <td>12838.206841</td>\n",
              "      <td>2614.704010</td>\n",
              "      <td>-24448.608044</td>\n",
              "      <td>-37036.371838</td>\n",
              "      <td>-78174.815210</td>\n",
              "      <td>...</td>\n",
              "      <td>13375.929468</td>\n",
              "      <td>-74733.336720</td>\n",
              "      <td>21085.605241</td>\n",
              "      <td>-40024.706269</td>\n",
              "      <td>-24457.651071</td>\n",
              "      <td>-40554.133157</td>\n",
              "      <td>-17853.663980</td>\n",
              "      <td>5909.251283</td>\n",
              "      <td>843.534182</td>\n",
              "      <td>14614.240278</td>\n",
              "    </tr>\n",
              "    <tr>\n",
              "      <th>68</th>\n",
              "      <td>heart failure</td>\n",
              "      <td>46339.225598</td>\n",
              "      <td>-28029.738069</td>\n",
              "      <td>-10630.205016</td>\n",
              "      <td>-26878.619170</td>\n",
              "      <td>-22984.395882</td>\n",
              "      <td>-17863.136771</td>\n",
              "      <td>-22284.967959</td>\n",
              "      <td>11125.849259</td>\n",
              "      <td>-22044.745099</td>\n",
              "      <td>...</td>\n",
              "      <td>-4025.457605</td>\n",
              "      <td>-8931.943775</td>\n",
              "      <td>5753.944606</td>\n",
              "      <td>22853.636855</td>\n",
              "      <td>24634.455378</td>\n",
              "      <td>-36045.965988</td>\n",
              "      <td>12754.976088</td>\n",
              "      <td>33929.723678</td>\n",
              "      <td>9739.328863</td>\n",
              "      <td>-11831.714251</td>\n",
              "    </tr>\n",
              "    <tr>\n",
              "      <th>319</th>\n",
              "      <td>others</td>\n",
              "      <td>-55547.667905</td>\n",
              "      <td>-55828.552628</td>\n",
              "      <td>-43185.308659</td>\n",
              "      <td>-8050.913774</td>\n",
              "      <td>24844.670190</td>\n",
              "      <td>-57529.234094</td>\n",
              "      <td>-15225.225309</td>\n",
              "      <td>-46233.188947</td>\n",
              "      <td>-25512.843749</td>\n",
              "      <td>...</td>\n",
              "      <td>24504.752380</td>\n",
              "      <td>14977.817631</td>\n",
              "      <td>4141.900078</td>\n",
              "      <td>19029.376799</td>\n",
              "      <td>26022.859037</td>\n",
              "      <td>5377.384308</td>\n",
              "      <td>9700.516500</td>\n",
              "      <td>1019.588470</td>\n",
              "      <td>-23914.906494</td>\n",
              "      <td>-7368.399676</td>\n",
              "    </tr>\n",
              "  </tbody>\n",
              "</table>\n",
              "<p>3 rows × 101 columns</p>\n",
              "</div>"
            ],
            "text/plain": [
              "             label           PCA1          PCA2          PCA3          PCA4  \\\n",
              "138  heart failure -184645.360385 -14118.375587  20585.252520  -5026.434728   \n",
              "68   heart failure   46339.225598 -28029.738069 -10630.205016 -26878.619170   \n",
              "319         others  -55547.667905 -55828.552628 -43185.308659  -8050.913774   \n",
              "\n",
              "             PCA5          PCA6          PCA7          PCA8          PCA9  \\\n",
              "138  12838.206841   2614.704010 -24448.608044 -37036.371838 -78174.815210   \n",
              "68  -22984.395882 -17863.136771 -22284.967959  11125.849259 -22044.745099   \n",
              "319  24844.670190 -57529.234094 -15225.225309 -46233.188947 -25512.843749   \n",
              "\n",
              "     ...         PCA91         PCA92         PCA93         PCA94  \\\n",
              "138  ...  13375.929468 -74733.336720  21085.605241 -40024.706269   \n",
              "68   ...  -4025.457605  -8931.943775   5753.944606  22853.636855   \n",
              "319  ...  24504.752380  14977.817631   4141.900078  19029.376799   \n",
              "\n",
              "            PCA95         PCA96         PCA97         PCA98         PCA99  \\\n",
              "138 -24457.651071 -40554.133157 -17853.663980   5909.251283    843.534182   \n",
              "68   24634.455378 -36045.965988  12754.976088  33929.723678   9739.328863   \n",
              "319  26022.859037   5377.384308   9700.516500   1019.588470 -23914.906494   \n",
              "\n",
              "           PCA100  \n",
              "138  14614.240278  \n",
              "68  -11831.714251  \n",
              "319  -7368.399676  \n",
              "\n",
              "[3 rows x 101 columns]"
            ]
          },
          "execution_count": 9,
          "metadata": {},
          "output_type": "execute_result"
        }
      ],
      "source": [
        "from sklearn.decomposition import PCA\n",
        "\n",
        "# Select the columns from 0 to 119999\n",
        "data = sound_df.loc[:, 0: 119999]\n",
        "\n",
        "# Define the number of components for PCA\n",
        "num_PCA = 100\n",
        "\n",
        "# Initialize a PCA model\n",
        "pca = PCA(n_components=num_PCA)\n",
        "\n",
        "# Fit the PCA model on the data\n",
        "pca.fit(data)\n",
        "\n",
        "# Transform the data using the fitted PCA model\n",
        "transformed_data = pca.transform(data)\n",
        "\n",
        "# Add the transformed data as new columns in the DataFrame\n",
        "for i in range(transformed_data.shape[1]):\n",
        "    sound_df[f'PCA{i+1}'] = transformed_data[:, i]\n",
        "\n",
        "# Remove the original data columns\n",
        "sound_df.drop(sound_df.loc[:, 0: 119999].columns, axis=1, inplace=True)\n",
        "sound_df.sample(3)"
      ]
    },
    {
      "cell_type": "markdown",
      "id": "5840a0dc",
      "metadata": {
        "id": "5840a0dc"
      },
      "source": [
        "Printing the dimensions to see if they can be differenciated visually"
      ]
    },
    {
      "cell_type": "markdown",
      "id": "0110c4b5",
      "metadata": {
        "id": "0110c4b5"
      },
      "source": [
        "### Performing the ML model\n",
        "\n",
        "Let us see if the generated PCA values can add with the created model in the last part of the evaluation. At first I am going to create the helper function to apply the same model"
      ]
    },
    {
      "cell_type": "markdown",
      "id": "3aa7c13e",
      "metadata": {
        "id": "3aa7c13e"
      },
      "source": [
        "---"
      ]
    },
    {
      "cell_type": "code",
      "execution_count": 10,
      "id": "1ecaba55",
      "metadata": {
        "id": "1ecaba55"
      },
      "outputs": [],
      "source": [
        "from sklearn.model_selection import train_test_split\n",
        "from sklearn.preprocessing import LabelEncoder\n",
        "\n",
        "\n",
        "# Encode the target variable\n",
        "le = LabelEncoder()\n",
        "\n",
        "# Define the features and the target\n",
        "X = sound_df.drop(columns='label')\n",
        "y = le.fit_transform(sound_df['label'])\n",
        "\n",
        "# Split the data into training and testing sets\n",
        "X_train, X_test, y_train, y_test = train_test_split(X, y, test_size=0.3, random_state=42)"
      ]
    },
    {
      "cell_type": "markdown",
      "id": "269ad180",
      "metadata": {
        "id": "269ad180"
      },
      "source": [
        "## Base NN model\n",
        "\n",
        "We will propose Deep Neural Networks for this model"
      ]
    },
    {
      "cell_type": "code",
      "execution_count": 11,
      "id": "9d6f064f",
      "metadata": {
        "colab": {
          "base_uri": "https://localhost:8080/",
          "height": 956
        },
        "id": "9d6f064f",
        "outputId": "e217b41e-c77f-4745-c58f-7b328709b374"
      },
      "outputs": [
        {
          "name": "stdout",
          "output_type": "stream",
          "text": [
            "               precision    recall  f1-score   support\n",
            "\n",
            "       asthma       0.74      0.78      0.76        32\n",
            "         copd       0.75      1.00      0.86         6\n",
            "heart failure       0.71      1.00      0.83        15\n",
            "lung fibrosis       1.00      0.60      0.75         5\n",
            "            n       0.93      0.79      0.86        34\n",
            "       others       1.00      0.40      0.57         5\n",
            "    pneumonia       1.00      1.00      1.00         4\n",
            "\n",
            "     accuracy                           0.81       101\n",
            "    macro avg       0.88      0.80      0.80       101\n",
            " weighted avg       0.84      0.81      0.81       101\n",
            "\n"
          ]
        },
        {
          "data": {
            "image/png": "[encoded data removed]",
            "text/plain": [
              "<Figure size 1000x700 with 2 Axes>"
            ]
          },
          "metadata": {},
          "output_type": "display_data"
        }
      ],
      "source": [
        "import torch\n",
        "from torch import nn\n",
        "from sklearn.metrics import confusion_matrix, classification_report\n",
        "from typing import List, Literal\n",
        "\n",
        "verbose = False\n",
        "num_epochs = 1000\n",
        "\n",
        "class SNN(nn.Module):\n",
        "    def __init__(self, input_size:int, hidden_size:int,\n",
        "                 activation:Literal[\"relu\", \"sigm\", \"tanh\"], num_classes:int):\n",
        "        \"\"\"__init__ method for the SNN class\n",
        "        Args:\n",
        "            input_size (int): Number of input features\n",
        "            hidden_size (int): Number of neurons in the hidden layers\n",
        "            activation (Literal[\"relu\", \"sigm\", \"tanh\"]): Activation function to use\n",
        "            num_classes (int): Number of output classes\n",
        "        \"\"\"\n",
        "        super(SNN, self).__init__()\n",
        "        self.activation = {\"relu\": nn.ReLU(),\n",
        "                           \"sigm\": nn.Sigmoid(),\n",
        "                           \"leaky_relu\": nn.LeakyReLU()}\n",
        "        self.fc1 = nn.Linear(input_size, hidden_size)\n",
        "        self.act = self.activation[activation]\n",
        "        self.fc2 = nn.Linear(hidden_size, hidden_size)\n",
        "        self.fc3 = nn.Linear(hidden_size, num_classes)\n",
        "\n",
        "    def forward(self, x):\n",
        "        seq = self.fc1(x)\n",
        "        seq = self.act(seq)\n",
        "        seq = self.fc2(seq)\n",
        "        seq = self.act(seq)\n",
        "        seq = self.fc3(seq)\n",
        "        return seq\n",
        "\n",
        "# Define the network dimensions\n",
        "input_size = num_PCA  # Number of input features (100 PCA features)\n",
        "hidden_size = 50  # Number of neurons in the hidden layers\n",
        "num_classes = len(labels)  # Number of output classes (change this to match your number of classes)\n",
        "\n",
        "# Initialize the network\n",
        "net = SNN(input_size, hidden_size, \"relu\", num_classes)\n",
        "\n",
        "# Define the loss function and the optimizer\n",
        "criterion = nn.CrossEntropyLoss()\n",
        "optimizer = torch.optim.Adam(net.parameters(), lr=0.001)\n",
        "\n",
        "# Convert the training data to PyTorch tensors\n",
        "X_train_tensor = torch.tensor(X_train.values, dtype=torch.float)\n",
        "y_train_tensor = torch.tensor(y_train, dtype=torch.long)\n",
        "\n",
        "# Train the model\n",
        "for epoch in range(num_epochs):  # Number of epochs\n",
        "    # Forward pass\n",
        "    outputs = net(X_train_tensor)\n",
        "    loss = criterion(outputs, y_train_tensor)\n",
        "\n",
        "    # Backward and optimize\n",
        "    optimizer.zero_grad()\n",
        "    loss.backward()\n",
        "    optimizer.step()\n",
        "\n",
        "    if (epoch+1) % 10 == 0 and verbose:\n",
        "        print ('Epoch [{}/{}], Loss: {:.4f}'.format(epoch+1, num_epochs, loss.item()))\n",
        "\n",
        "# Convert the test data to PyTorch tensors\n",
        "X_test_tensor = torch.tensor(X_test.values, dtype=torch.float)\n",
        "y_test_tensor = torch.tensor(y_test, dtype=torch.long)\n",
        "\n",
        "# Get the model's predictions on the test set\n",
        "y_pred_tensor = net(X_test_tensor)\n",
        "_, y_pred = torch.max(y_pred_tensor.data, 1)\n",
        "\n",
        "# Convert the predictions and the true labels back to their original form\n",
        "y_test_labels = le.inverse_transform(y_test_tensor)\n",
        "y_pred_labels = le.inverse_transform(y_pred)\n",
        "\n",
        "# Compute the confusion matrix\n",
        "cm = confusion_matrix(y_test_labels, y_pred_labels)\n",
        "\n",
        "# Create the figure\n",
        "fig, ax = plt.subplots(figsize=(10,7))\n",
        "\n",
        "# Plot the confusion matrix\n",
        "sns.heatmap(cm, annot=True, fmt='d', ax=ax)\n",
        "ax.set_title('Confusion Matrix')\n",
        "ax.set_ylabel('True label')\n",
        "ax.set_xlabel('Predicted label')\n",
        "ax.set_xticks(ticks=np.arange(len(le.classes_))+0.5)\n",
        "ax.set_xticklabels(labels=le.classes_, rotation=90, fontsize=10)\n",
        "ax.set_yticks(ticks=np.arange(len(le.classes_))+0.5)\n",
        "ax.set_yticklabels(labels=le.classes_, rotation=0, fontsize=10)\n",
        "\n",
        "# Compute the classification report\n",
        "report = classification_report(y_test_labels, y_pred_labels)\n",
        "\n",
        "# Print the classification report\n",
        "print(report)\n",
        "\n",
        "# Show the confusion matrix\n",
        "plt.show()"
      ]
    },
    {
      "cell_type": "markdown",
      "id": "41797b67",
      "metadata": {
        "execution": {
          "iopub.execute_input": "2023-12-15T16:52:38.269973Z",
          "iopub.status.busy": "2023-12-15T16:52:38.269564Z",
          "iopub.status.idle": "2023-12-15T16:52:38.275879Z",
          "shell.execute_reply": "2023-12-15T16:52:38.274907Z",
          "shell.execute_reply.started": "2023-12-15T16:52:38.269939Z"
        },
        "id": "41797b67"
      },
      "source": [
        "### Helper Functions\n"
      ]
    },
    {
      "cell_type": "code",
      "execution_count": 12,
      "id": "fa412d09",
      "metadata": {
        "id": "fa412d09"
      },
      "outputs": [],
      "source": [
        "from torch.nn import functional as F\n",
        "from skorch import NeuralNetClassifier\n",
        "import optuna\n",
        "from optuna.integration import SkorchPruningCallback\n",
        "\n",
        "class HyperparameterTuner:\n",
        "    def __init__(self, X_train, y_train, X_test, y_test, num_classes):\n",
        "        \"\"\"_method for the HyperparameterTuner class_\n",
        "        Args:\n",
        "            X_train (pd.DataFrame): Training features\n",
        "            y_train (pd.Series): Training target\n",
        "            X_test (pd.DataFrame): Testing features\n",
        "            y_test (pd.Series): Testing target\n",
        "            num_classes (int): Number of output classes\n",
        "        \"\"\"\n",
        "        self.X_train = torch.tensor(X_train.values, dtype=torch.float)\n",
        "        self.y_train = torch.tensor(y_train, dtype=torch.long)\n",
        "        self.X_test = torch.tensor(X_test.values, dtype=torch.float)\n",
        "        self.y_test = torch.tensor(y_test, dtype=torch.long)\n",
        "        self.num_classes = num_classes\n",
        "        self.study = None\n",
        "\n",
        "    def objective(self, trial):\n",
        "        \"\"\"\n",
        "        Objective function for the Optuna hyperparameter optimization\n",
        "        Args:\n",
        "            trial (optuna.trial): Optuna trial object\n",
        "        Returns:\n",
        "            float: Score to minimize or maximize\n",
        "        \"\"\"\n",
        "        lr = trial.suggest_loguniform('lr', 1e-6, 1e-1)\n",
        "        hidden_size = trial.suggest_int('hidden_size', 10, 1000)\n",
        "        max_epochs = trial.suggest_int('max_epochs', 100, 1000)\n",
        "        activation_opt = trial.suggest_categorical('activation', ['relu', 'sigm', 'leaky_relu'])\n",
        "\n",
        "        # Define the model\n",
        "        model = NeuralNetClassifier(\n",
        "            SNN,\n",
        "            module__input_size=X_train.shape[1],\n",
        "            module__hidden_size=hidden_size,\n",
        "            module__num_classes=self.num_classes,\n",
        "            module__activation=activation_opt,\n",
        "            max_epochs=max_epochs,\n",
        "            lr=lr,\n",
        "            optimizer=torch.optim.Adam,\n",
        "            criterion=nn.CrossEntropyLoss,\n",
        "            device='cuda' if torch.cuda.is_available() else 'cpu',\n",
        "            callbacks=[SkorchPruningCallback(trial, 'valid_loss')],\n",
        "            verbose=0\n",
        "        )\n",
        "\n",
        "        # Train the model\n",
        "        model.fit(self.X_train, self.y_train)\n",
        "\n",
        "        # Evaluate the model\n",
        "        score = model.score(self.X_test, self.y_test)\n",
        "\n",
        "        return score\n",
        "\n",
        "    def tune(self):\n",
        "        \"\"\"\n",
        "        Perform the hyperparameter optimization using Optuna\n",
        "        Returns:\n",
        "            dict: Best hyperparameters\n",
        "        \"\"\"\n",
        "        self.study = optuna.create_study(direction='maximize')\n",
        "        self.study.optimize(self.objective, n_trials=50)\n",
        "\n",
        "        return self.study.best_params\n",
        "\n",
        "    def train_best_model(self):\n",
        "        \"\"\"\n",
        "        Train the model using the best hyperparameters\n",
        "        Returns:\n",
        "            NeuralNetClassifier: Trained model\n",
        "        \"\"\"\n",
        "        # Get the best hyperparameters\n",
        "        best_params = self.study.best_params\n",
        "\n",
        "        # Train the model with the best hyperparameters\n",
        "        best_model = NeuralNetClassifier(\n",
        "            SNN,\n",
        "            module__input_size=self.X_train.shape[1],\n",
        "            module__hidden_size=best_params['hidden_size'],\n",
        "            module__num_classes=self.num_classes,\n",
        "            module__activation=best_params['activation'],\n",
        "            max_epochs=best_params['max_epochs'],\n",
        "            lr=best_params['lr'],\n",
        "            optimizer=torch.optim.Adam,\n",
        "            criterion=nn.CrossEntropyLoss,\n",
        "            device='cuda' if torch.cuda.is_available() else 'cpu',\n",
        "            verbose=0\n",
        "        )\n",
        "        best_model.fit(self.X_train, self.y_train)\n",
        "        return best_model\n",
        "\n",
        "    def plot_confusion_matrix(self, y_true, y_pred, le):\n",
        "        \"\"\"\n",
        "        Plot the confusion matrix\n",
        "        Args:\n",
        "            y_true (np.array): True labels\n",
        "            y_pred (np.array): Predicted labels\n",
        "            le (LabelEncoder): LabelEncoder object\n",
        "        \"\"\"\n",
        "        # Compute the confusion matrix\n",
        "        cm = confusion_matrix(y_true, y_pred)\n",
        "\n",
        "        # Plot the confusion matrix\n",
        "        fig, ax = plt.subplots(figsize=(10, 7))\n",
        "        sns.heatmap(cm, annot=True, fmt='d', ax=ax)\n",
        "        ax.set_title('Confusion Matrix')\n",
        "        ax.set_ylabel('True label')\n",
        "        ax.set_xlabel('Predicted label')\n",
        "        ax.set_xticks(ticks=np.arange(len(le.classes_))+0.5)\n",
        "        ax.set_xticklabels(labels=le.classes_, rotation=90, fontsize=10)\n",
        "        ax.set_yticks(ticks=np.arange(len(le.classes_))+0.5)\n",
        "        ax.set_yticklabels(labels=le.classes_, rotation=0, fontsize=10)\n",
        "\n",
        "        plt.show()\n",
        "\n",
        "    def print_classification_report(self, y_true, y_pred):\n",
        "        \"\"\"\n",
        "        Print the classification report\n",
        "        Args:\n",
        "            y_true (np.array): True labels\n",
        "            y_pred (np.array): Predicted labels\n",
        "        \"\"\"\n",
        "        # Compute the classification report\n",
        "        report = classification_report(y_true, y_pred)\n",
        "\n",
        "        # Print the classification report\n",
        "        print(report)\n",
        "\n",
        "    def plot_results(self, le):\n",
        "        \"\"\"\n",
        "        Plot the confusion matrix and print the classification report\n",
        "        Args:\n",
        "            le (LabelEncoder): LabelEncoder object\n",
        "        \"\"\"\n",
        "        best_model = self.train_best_model()\n",
        "        y_pred = best_model.predict(self.X_test)\n",
        "        self.plot_confusion_matrix(self.y_test, y_pred, le)\n",
        "        self.print_classification_report(self.y_test, y_pred)"
      ]
    },
    {
      "cell_type": "markdown",
      "id": "26ba7b09",
      "metadata": {
        "id": "26ba7b09"
      },
      "source": [
        "Evaluating the model"
      ]
    },
    {
      "cell_type": "code",
      "execution_count": 13,
      "id": "b38400b0",
      "metadata": {
        "colab": {
          "base_uri": "https://localhost:8080/"
        },
        "id": "b38400b0",
        "outputId": "3b0f59e4-258f-41da-9a58-a91ad8b607f6"
      },
      "outputs": [
        {
          "name": "stderr",
          "output_type": "stream",
          "text": [
            "[I 2024-05-05 12:54:40,636] A new study created in memory with name: no-name-fdacc1f6-bd3a-4181-a0b1-09d781495a2a\n",
            "[I 2024-05-05 12:54:46,874] Trial 0 finished with value: 0.5445544554455446 and parameters: {'lr': 0.0008752575936752537, 'hidden_size': 15, 'max_epochs': 881, 'activation': 'relu'}. Best is trial 0 with value: 0.5445544554455446.\n",
            "[I 2024-05-05 12:54:52,800] Trial 1 finished with value: 0.46534653465346537 and parameters: {'lr': 1.5964537788725777e-06, 'hidden_size': 362, 'max_epochs': 863, 'activation': 'leaky_relu'}. Best is trial 0 with value: 0.5445544554455446.\n",
            "[I 2024-05-05 12:54:56,645] Trial 2 finished with value: 0.6237623762376238 and parameters: {'lr': 2.996651708247825e-05, 'hidden_size': 575, 'max_epochs': 623, 'activation': 'relu'}. Best is trial 2 with value: 0.6237623762376238.\n",
            "[I 2024-05-05 12:55:01,683] Trial 3 finished with value: 0.8316831683168316 and parameters: {'lr': 0.0021123090135783218, 'hidden_size': 464, 'max_epochs': 837, 'activation': 'relu'}. Best is trial 3 with value: 0.8316831683168316.\n",
            "[I 2024-05-05 12:55:05,985] Trial 4 finished with value: 0.6237623762376238 and parameters: {'lr': 0.00010252172327428237, 'hidden_size': 152, 'max_epochs': 703, 'activation': 'relu'}. Best is trial 3 with value: 0.8316831683168316.\n",
            "[I 2024-05-05 12:55:10,835] Trial 5 finished with value: 0.7821782178217822 and parameters: {'lr': 0.011348414929068759, 'hidden_size': 741, 'max_epochs': 747, 'activation': 'relu'}. Best is trial 3 with value: 0.8316831683168316.\n",
            "[I 2024-05-05 12:55:15,635] Trial 6 finished with value: 0.7524752475247525 and parameters: {'lr': 0.02747538304259025, 'hidden_size': 537, 'max_epochs': 775, 'activation': 'leaky_relu'}. Best is trial 3 with value: 0.8316831683168316.\n",
            "[I 2024-05-05 12:55:18,182] Trial 7 finished with value: 0.38613861386138615 and parameters: {'lr': 2.78066257202374e-06, 'hidden_size': 339, 'max_epochs': 410, 'activation': 'leaky_relu'}. Best is trial 3 with value: 0.8316831683168316.\n",
            "[I 2024-05-05 12:55:19,057] Trial 8 finished with value: 0.8316831683168316 and parameters: {'lr': 0.00037781864396699917, 'hidden_size': 798, 'max_epochs': 130, 'activation': 'leaky_relu'}. Best is trial 3 with value: 0.8316831683168316.\n",
            "[I 2024-05-05 12:55:19,068] Trial 9 pruned. Trial was pruned at epoch 0.\n",
            "[I 2024-05-05 12:55:19,102] Trial 10 pruned. Trial was pruned at epoch 0.\n",
            "[I 2024-05-05 12:55:19,126] Trial 11 pruned. Trial was pruned at epoch 0.\n",
            "[I 2024-05-05 12:55:20,864] Trial 12 finished with value: 0.8316831683168316 and parameters: {'lr': 0.0033624504639926675, 'hidden_size': 726, 'max_epochs': 272, 'activation': 'leaky_relu'}. Best is trial 3 with value: 0.8316831683168316.\n",
            "[I 2024-05-05 12:55:20,897] Trial 13 pruned. Trial was pruned at epoch 0.\n",
            "[I 2024-05-05 12:55:20,921] Trial 14 pruned. Trial was pruned at epoch 0.\n",
            "[I 2024-05-05 12:55:24,632] Trial 15 finished with value: 0.33663366336633666 and parameters: {'lr': 0.09939959954617374, 'hidden_size': 850, 'max_epochs': 557, 'activation': 'relu'}. Best is trial 3 with value: 0.8316831683168316.\n",
            "[I 2024-05-05 12:55:24,655] Trial 16 pruned. Trial was pruned at epoch 0.\n",
            "[I 2024-05-05 12:55:24,679] Trial 17 pruned. Trial was pruned at epoch 0.\n",
            "[I 2024-05-05 12:55:28,827] Trial 18 finished with value: 0.8514851485148515 and parameters: {'lr': 0.006798669458173978, 'hidden_size': 196, 'max_epochs': 639, 'activation': 'relu'}. Best is trial 18 with value: 0.8514851485148515.\n",
            "[I 2024-05-05 12:55:33,144] Trial 19 finished with value: 0.7623762376237624 and parameters: {'lr': 0.012691111969050217, 'hidden_size': 200, 'max_epochs': 634, 'activation': 'relu'}. Best is trial 18 with value: 0.8514851485148515.\n",
            "[I 2024-05-05 12:55:38,355] Trial 20 finished with value: 0.7524752475247525 and parameters: {'lr': 0.006863658416450114, 'hidden_size': 224, 'max_epochs': 799, 'activation': 'relu'}. Best is trial 18 with value: 0.8514851485148515.\n",
            "[I 2024-05-05 12:55:38,380] Trial 21 pruned. Trial was pruned at epoch 0.\n",
            "[I 2024-05-05 12:55:42,984] Trial 22 finished with value: 0.8118811881188119 and parameters: {'lr': 0.002904490889009309, 'hidden_size': 431, 'max_epochs': 663, 'activation': 'relu'}. Best is trial 18 with value: 0.8514851485148515.\n",
            "[I 2024-05-05 12:55:43,022] Trial 23 pruned. Trial was pruned at epoch 0.\n",
            "[I 2024-05-05 12:55:43,051] Trial 24 pruned. Trial was pruned at epoch 0.\n",
            "[I 2024-05-05 12:55:45,535] Trial 25 finished with value: 0.801980198019802 and parameters: {'lr': 0.0016575322810734748, 'hidden_size': 851, 'max_epochs': 360, 'activation': 'leaky_relu'}. Best is trial 18 with value: 0.8514851485148515.\n",
            "[I 2024-05-05 12:55:45,562] Trial 26 pruned. Trial was pruned at epoch 0.\n",
            "[I 2024-05-05 12:55:46,810] Trial 27 finished with value: 0.8118811881188119 and parameters: {'lr': 0.007293566908874498, 'hidden_size': 267, 'max_epochs': 182, 'activation': 'relu'}. Best is trial 18 with value: 0.8514851485148515.\n",
            "[I 2024-05-05 12:55:46,839] Trial 28 pruned. Trial was pruned at epoch 0.\n",
            "[I 2024-05-05 12:55:46,865] Trial 29 pruned. Trial was pruned at epoch 0.\n",
            "[I 2024-05-05 12:55:46,902] Trial 30 pruned. Trial was pruned at epoch 0.\n",
            "[I 2024-05-05 12:55:48,695] Trial 31 finished with value: 0.8217821782178217 and parameters: {'lr': 0.0038067585918120325, 'hidden_size': 745, 'max_epochs': 224, 'activation': 'leaky_relu'}. Best is trial 18 with value: 0.8514851485148515.\n",
            "[I 2024-05-05 12:55:50,732] Trial 32 finished with value: 0.801980198019802 and parameters: {'lr': 0.0017776096009319232, 'hidden_size': 707, 'max_epochs': 291, 'activation': 'leaky_relu'}. Best is trial 18 with value: 0.8514851485148515.\n",
            "[I 2024-05-05 12:55:50,759] Trial 33 pruned. Trial was pruned at epoch 0.\n",
            "[I 2024-05-05 12:55:52,508] Trial 34 finished with value: 0.8217821782178217 and parameters: {'lr': 0.004445249923803707, 'hidden_size': 812, 'max_epochs': 244, 'activation': 'leaky_relu'}. Best is trial 18 with value: 0.8514851485148515.\n",
            "[I 2024-05-05 12:55:58,799] Trial 35 finished with value: 0.8118811881188119 and parameters: {'lr': 0.014056141285385305, 'hidden_size': 280, 'max_epochs': 945, 'activation': 'leaky_relu'}. Best is trial 18 with value: 0.8514851485148515.\n",
            "[I 2024-05-05 12:55:58,832] Trial 36 pruned. Trial was pruned at epoch 0.\n",
            "[I 2024-05-05 12:55:58,864] Trial 37 pruned. Trial was pruned at epoch 0.\n",
            "[I 2024-05-05 12:55:58,903] Trial 38 pruned. Trial was pruned at epoch 0.\n",
            "[I 2024-05-05 12:55:58,936] Trial 39 pruned. Trial was pruned at epoch 0.\n",
            "[I 2024-05-05 12:56:03,769] Trial 40 finished with value: 0.8316831683168316 and parameters: {'lr': 0.06272507443490256, 'hidden_size': 462, 'max_epochs': 763, 'activation': 'leaky_relu'}. Best is trial 18 with value: 0.8514851485148515.\n",
            "[I 2024-05-05 12:56:08,350] Trial 41 finished with value: 0.7821782178217822 and parameters: {'lr': 0.03996950356932008, 'hidden_size': 509, 'max_epochs': 734, 'activation': 'leaky_relu'}. Best is trial 18 with value: 0.8514851485148515.\n",
            "[I 2024-05-05 12:56:13,731] Trial 42 finished with value: 0.7821782178217822 and parameters: {'lr': 0.08844710556260771, 'hidden_size': 467, 'max_epochs': 831, 'activation': 'leaky_relu'}. Best is trial 18 with value: 0.8514851485148515.\n",
            "[I 2024-05-05 12:56:19,368] Trial 43 finished with value: 0.7821782178217822 and parameters: {'lr': 0.023795257445621748, 'hidden_size': 360, 'max_epochs': 904, 'activation': 'leaky_relu'}. Best is trial 18 with value: 0.8514851485148515.\n",
            "[I 2024-05-05 12:56:19,398] Trial 44 pruned. Trial was pruned at epoch 0.\n",
            "[I 2024-05-05 12:56:19,429] Trial 45 pruned. Trial was pruned at epoch 0.\n",
            "[I 2024-05-05 12:56:19,454] Trial 46 pruned. Trial was pruned at epoch 0.\n",
            "[I 2024-05-05 12:56:23,263] Trial 47 finished with value: 0.33663366336633666 and parameters: {'lr': 0.05878125436623608, 'hidden_size': 460, 'max_epochs': 582, 'activation': 'relu'}. Best is trial 18 with value: 0.8514851485148515.\n",
            "[I 2024-05-05 12:56:23,295] Trial 48 pruned. Trial was pruned at epoch 0.\n",
            "[I 2024-05-05 12:56:27,613] Trial 49 finished with value: 0.8217821782178217 and parameters: {'lr': 0.0021339189275066455, 'hidden_size': 763, 'max_epochs': 606, 'activation': 'relu'}. Best is trial 18 with value: 0.8514851485148515.\n"
          ]
        },
        {
          "data": {
            "text/plain": [
              "{'lr': 0.006798669458173978,\n",
              " 'hidden_size': 196,\n",
              " 'max_epochs': 639,\n",
              " 'activation': 'relu'}"
            ]
          },
          "execution_count": 13,
          "metadata": {},
          "output_type": "execute_result"
        }
      ],
      "source": [
        "Tuner = HyperparameterTuner(X_train, y_train, X_test, y_test, len(np.unique(y_train)))\n",
        "best_params = Tuner.tune()\n",
        "best_params"
      ]
    },
    {
      "cell_type": "code",
      "execution_count": 14,
      "id": "bde4c556",
      "metadata": {
        "colab": {
          "base_uri": "https://localhost:8080/",
          "height": 956
        },
        "id": "bde4c556",
        "outputId": "f090c2b2-e854-415a-c3fb-b5c57a7b628f"
      },
      "outputs": [
        {
          "data": {
            "image/png": "[encoded data removed]",
            "text/plain": [
              "<Figure size 1000x700 with 2 Axes>"
            ]
          },
          "metadata": {},
          "output_type": "display_data"
        },
        {
          "name": "stdout",
          "output_type": "stream",
          "text": [
            "              precision    recall  f1-score   support\n",
            "\n",
            "           0       0.83      0.91      0.87        32\n",
            "           1       1.00      1.00      1.00         6\n",
            "           2       0.75      0.80      0.77        15\n",
            "           3       1.00      1.00      1.00         5\n",
            "           4       0.80      0.82      0.81        34\n",
            "           5       1.00      0.40      0.57         5\n",
            "           6       1.00      0.50      0.67         4\n",
            "\n",
            "    accuracy                           0.83       101\n",
            "   macro avg       0.91      0.78      0.81       101\n",
            "weighted avg       0.84      0.83      0.83       101\n",
            "\n"
          ]
        }
      ],
      "source": [
        "Tuner.plot_results(le=le)\n"
      ]
    },
    {
      "cell_type": "markdown",
      "id": "d22a5707",
      "metadata": {
        "id": "d22a5707"
      },
      "source": [
        "## Part B (My data)\n",
        "\n",
        "As you may know, I concatenated the MFCC numbers for the given filters (B,D and E) in one row. This is the main difference with the dataset you provided. Let us see how it behaves with the same neural network architecture.\n",
        "\n",
        "Let us load the dataset generated in the previous notebook:"
      ]
    },
    {
      "cell_type": "code",
      "execution_count": 15,
      "id": "352a011b",
      "metadata": {
        "colab": {
          "base_uri": "https://localhost:8080/",
          "height": 290
        },
        "id": "352a011b",
        "outputId": "7a486708-db56-4fe3-bed0-c143aec0e053"
      },
      "outputs": [
        {
          "data": {
            "text/html": [
              "<div>\n",
              "<style scoped>\n",
              "    .dataframe tbody tr th:only-of-type {\n",
              "        vertical-align: middle;\n",
              "    }\n",
              "\n",
              "    .dataframe tbody tr th {\n",
              "        vertical-align: top;\n",
              "    }\n",
              "\n",
              "    .dataframe thead th {\n",
              "        text-align: right;\n",
              "    }\n",
              "</style>\n",
              "<table border=\"1\" class=\"dataframe\">\n",
              "  <thead>\n",
              "    <tr style=\"text-align: right;\">\n",
              "      <th></th>\n",
              "      <th>0_B</th>\n",
              "      <th>0_D</th>\n",
              "      <th>0_E</th>\n",
              "      <th>1_B</th>\n",
              "      <th>1_D</th>\n",
              "      <th>1_E</th>\n",
              "      <th>2_B</th>\n",
              "      <th>2_D</th>\n",
              "      <th>2_E</th>\n",
              "      <th>3_B</th>\n",
              "      <th>...</th>\n",
              "      <th>24_B</th>\n",
              "      <th>24_D</th>\n",
              "      <th>24_E</th>\n",
              "      <th>25_B</th>\n",
              "      <th>25_D</th>\n",
              "      <th>25_E</th>\n",
              "      <th>Diagnosis</th>\n",
              "      <th>SoundType</th>\n",
              "      <th>Location</th>\n",
              "      <th>Gender</th>\n",
              "    </tr>\n",
              "    <tr>\n",
              "      <th>SubjectNo</th>\n",
              "      <th></th>\n",
              "      <th></th>\n",
              "      <th></th>\n",
              "      <th></th>\n",
              "      <th></th>\n",
              "      <th></th>\n",
              "      <th></th>\n",
              "      <th></th>\n",
              "      <th></th>\n",
              "      <th></th>\n",
              "      <th></th>\n",
              "      <th></th>\n",
              "      <th></th>\n",
              "      <th></th>\n",
              "      <th></th>\n",
              "      <th></th>\n",
              "      <th></th>\n",
              "      <th></th>\n",
              "      <th></th>\n",
              "      <th></th>\n",
              "      <th></th>\n",
              "    </tr>\n",
              "  </thead>\n",
              "  <tbody>\n",
              "    <tr>\n",
              "      <th>38</th>\n",
              "      <td>-461.52820</td>\n",
              "      <td>-371.03876</td>\n",
              "      <td>-383.19217</td>\n",
              "      <td>86.526440</td>\n",
              "      <td>164.81960</td>\n",
              "      <td>159.585770</td>\n",
              "      <td>71.847620</td>\n",
              "      <td>58.228344</td>\n",
              "      <td>45.359333</td>\n",
              "      <td>53.938736</td>\n",
              "      <td>...</td>\n",
              "      <td>-1.988056</td>\n",
              "      <td>-0.688322</td>\n",
              "      <td>0.553854</td>\n",
              "      <td>-1.215319</td>\n",
              "      <td>-0.196584</td>\n",
              "      <td>0.322197</td>\n",
              "      <td>Asthma</td>\n",
              "      <td>E W</td>\n",
              "      <td>P R M</td>\n",
              "      <td>M</td>\n",
              "    </tr>\n",
              "    <tr>\n",
              "      <th>56</th>\n",
              "      <td>-454.12027</td>\n",
              "      <td>-400.48843</td>\n",
              "      <td>-410.66806</td>\n",
              "      <td>61.527874</td>\n",
              "      <td>115.00121</td>\n",
              "      <td>107.790924</td>\n",
              "      <td>57.565456</td>\n",
              "      <td>61.337740</td>\n",
              "      <td>49.817900</td>\n",
              "      <td>52.328000</td>\n",
              "      <td>...</td>\n",
              "      <td>-0.179172</td>\n",
              "      <td>1.795609</td>\n",
              "      <td>2.145545</td>\n",
              "      <td>-0.051316</td>\n",
              "      <td>2.461964</td>\n",
              "      <td>2.241690</td>\n",
              "      <td>Asthma</td>\n",
              "      <td>E W</td>\n",
              "      <td>P R M</td>\n",
              "      <td>F</td>\n",
              "    </tr>\n",
              "    <tr>\n",
              "      <th>72</th>\n",
              "      <td>-464.62630</td>\n",
              "      <td>-412.53310</td>\n",
              "      <td>-433.67360</td>\n",
              "      <td>54.749620</td>\n",
              "      <td>96.79309</td>\n",
              "      <td>94.818690</td>\n",
              "      <td>51.224228</td>\n",
              "      <td>51.110160</td>\n",
              "      <td>41.994137</td>\n",
              "      <td>46.515297</td>\n",
              "      <td>...</td>\n",
              "      <td>-0.763629</td>\n",
              "      <td>1.785167</td>\n",
              "      <td>1.727988</td>\n",
              "      <td>-0.335942</td>\n",
              "      <td>2.561264</td>\n",
              "      <td>2.199973</td>\n",
              "      <td>N</td>\n",
              "      <td>N</td>\n",
              "      <td>P R U</td>\n",
              "      <td>F</td>\n",
              "    </tr>\n",
              "    <tr>\n",
              "      <th>97</th>\n",
              "      <td>-438.56815</td>\n",
              "      <td>-350.79333</td>\n",
              "      <td>-354.83290</td>\n",
              "      <td>97.607100</td>\n",
              "      <td>171.61903</td>\n",
              "      <td>174.518750</td>\n",
              "      <td>86.124650</td>\n",
              "      <td>50.199463</td>\n",
              "      <td>34.647102</td>\n",
              "      <td>71.469070</td>\n",
              "      <td>...</td>\n",
              "      <td>-0.658365</td>\n",
              "      <td>0.285399</td>\n",
              "      <td>1.955326</td>\n",
              "      <td>0.585642</td>\n",
              "      <td>2.431331</td>\n",
              "      <td>2.696564</td>\n",
              "      <td>Asthma</td>\n",
              "      <td>E W</td>\n",
              "      <td>P R U</td>\n",
              "      <td>M</td>\n",
              "    </tr>\n",
              "  </tbody>\n",
              "</table>\n",
              "<p>4 rows × 82 columns</p>\n",
              "</div>"
            ],
            "text/plain": [
              "                 0_B        0_D        0_E        1_B        1_D         1_E  \\\n",
              "SubjectNo                                                                      \n",
              "38        -461.52820 -371.03876 -383.19217  86.526440  164.81960  159.585770   \n",
              "56        -454.12027 -400.48843 -410.66806  61.527874  115.00121  107.790924   \n",
              "72        -464.62630 -412.53310 -433.67360  54.749620   96.79309   94.818690   \n",
              "97        -438.56815 -350.79333 -354.83290  97.607100  171.61903  174.518750   \n",
              "\n",
              "                 2_B        2_D        2_E        3_B  ...      24_B  \\\n",
              "SubjectNo                                              ...             \n",
              "38         71.847620  58.228344  45.359333  53.938736  ... -1.988056   \n",
              "56         57.565456  61.337740  49.817900  52.328000  ... -0.179172   \n",
              "72         51.224228  51.110160  41.994137  46.515297  ... -0.763629   \n",
              "97         86.124650  50.199463  34.647102  71.469070  ... -0.658365   \n",
              "\n",
              "               24_D      24_E      25_B      25_D      25_E  Diagnosis  \\\n",
              "SubjectNo                                                                \n",
              "38        -0.688322  0.553854 -1.215319 -0.196584  0.322197     Asthma   \n",
              "56         1.795609  2.145545 -0.051316  2.461964  2.241690     Asthma   \n",
              "72         1.785167  1.727988 -0.335942  2.561264  2.199973          N   \n",
              "97         0.285399  1.955326  0.585642  2.431331  2.696564     Asthma   \n",
              "\n",
              "           SoundType  Location  Gender  \n",
              "SubjectNo                               \n",
              "38               E W     P R M       M  \n",
              "56               E W     P R M       F  \n",
              "72                 N     P R U       F  \n",
              "97               E W     P R U       M  \n",
              "\n",
              "[4 rows x 82 columns]"
            ]
          },
          "execution_count": 15,
          "metadata": {},
          "output_type": "execute_result"
        }
      ],
      "source": [
        "df_wide = pd.read_csv('https://raw.githubusercontent.com/nikorose87/TechChallengeSamay/main/dataset/processed_data.csv', index_col=0)\n",
        "df_wide.sample(4)"
      ]
    },
    {
      "cell_type": "code",
      "execution_count": 46,
      "id": "630c83b9",
      "metadata": {
        "id": "630c83b9"
      },
      "outputs": [],
      "source": [
        "from sklearn.model_selection import train_test_split\n",
        "from sklearn.preprocessing import LabelEncoder\n",
        "\n",
        "# Encode the target variable\n",
        "le = LabelEncoder()\n",
        "\n",
        "# Define the features and the target\n",
        "X = df_wide.drop(columns='Diagnosis')\n",
        "# Transform the categorical variables\n",
        "X['SoundType'] = le.fit_transform(X['SoundType'])\n",
        "X['Location'] = le.fit_transform(X['Location'])\n",
        "X['Gender'] = le.fit_transform(X['Gender'])\n",
        "# Encode the target variable\n",
        "y = le.fit_transform(df_wide['Diagnosis'])\n",
        "\n",
        "# Split the data into training and testing sets\n",
        "X_train, X_test, y_train, y_test = train_test_split(X, y, test_size=0.3)"
      ]
    },
    {
      "cell_type": "code",
      "execution_count": 47,
      "id": "ad310c2b",
      "metadata": {},
      "outputs": [
        {
          "name": "stdout",
          "output_type": "stream",
          "text": [
            "Fitting 4 folds for each of 1 candidates, totalling 4 fits\n",
            "Fitting 4 folds for each of 1 candidates, totalling 4 fits\n",
            "Fitting 4 folds for each of 1 candidates, totalling 4 fits\n",
            "Fitting 4 folds for each of 1 candidates, totalling 4 fits\n",
            "Fitting 4 folds for each of 1 candidates, totalling 4 fits\n",
            "Fitting 4 folds for each of 1 candidates, totalling 4 fits\n"
          ]
        },
        {
          "name": "stdout",
          "output_type": "stream",
          "text": [
            "Fitting 4 folds for each of 1 candidates, totalling 4 fits\n",
            "Fitting 4 folds for each of 1 candidates, totalling 4 fits\n",
            "Fitting 4 folds for each of 1 candidates, totalling 4 fits\n",
            "Fitting 4 folds for each of 1 candidates, totalling 4 fits\n",
            "Fitting 4 folds for each of 1 candidates, totalling 4 fits\n",
            "Fitting 4 folds for each of 1 candidates, totalling 4 fits\n",
            "Fitting 4 folds for each of 1 candidates, totalling 4 fits\n",
            "Fitting 4 folds for each of 1 candidates, totalling 4 fits\n",
            "Fitting 4 folds for each of 1 candidates, totalling 4 fits\n",
            "OrderedDict([('gamma', 0.02027447664899523), ('learning_rate', 2.3328580161359693), ('max_depth', 10), ('min_child_weight', 5), ('n_estimators', 252)])\n"
          ]
        }
      ],
      "source": [
        "from skopt import BayesSearchCV\n",
        "import xgboost as xgb\n",
        "from sklearn.model_selection import StratifiedKFold\n",
        "\n",
        "# Define the XGBoost classifier\n",
        "xgb_clf = xgb.XGBClassifier(objective='multi:softprob', \n",
        "                            eval_metric='mlogloss')\n",
        "\n",
        "# Define the search space for the hyperparameters\n",
        "search_space = {'max_depth': (1, 10),\n",
        "                'gamma': (0.0, 10.0),\n",
        "                'n_estimators': (10, 500),\n",
        "                'min_child_weight': (1, 20),\n",
        "                'learning_rate': (0, 10.0)}\n",
        "\n",
        "# Define the cross-validation\n",
        "cv = StratifiedKFold(n_splits=4, shuffle=True, random_state=42)\n",
        "\n",
        "# Initialize the Bayesian optimization object\n",
        "opt = BayesSearchCV(xgb_clf, search_space, cv=cv, n_iter=15, random_state=42, \n",
        "                    n_jobs=-1, verbose=1, scoring='f1_micro')\n",
        "\n",
        "# Resampling did not work here\n",
        "opt.fit(X_train, y_train)\n",
        "\n",
        "# printing best parameters\n",
        "print(opt.best_params_)"
      ]
    },
    {
      "cell_type": "code",
      "execution_count": 48,
      "id": "f70ff390",
      "metadata": {},
      "outputs": [
        {
          "data": {
            "image/png": "[encoded data removed]",
            "text/plain": [
              "<Figure size 1000x700 with 2 Axes>"
            ]
          },
          "metadata": {},
          "output_type": "display_data"
        },
        {
          "name": "stdout",
          "output_type": "stream",
          "text": [
            "               precision    recall  f1-score   support\n",
            "\n",
            "       Asthma       0.75      0.92      0.83        13\n",
            "         COPD       0.00      0.00      0.00         4\n",
            "Heart Failure       1.00      0.86      0.92         7\n",
            "            N       1.00      1.00      1.00         9\n",
            "       others       0.00      0.00      0.00         1\n",
            "    pneumonia       0.00      0.00      0.00         0\n",
            "\n",
            "     accuracy                           0.79        34\n",
            "    macro avg       0.46      0.46      0.46        34\n",
            " weighted avg       0.76      0.79      0.77        34\n",
            "\n"
          ]
        }
      ],
      "source": [
        "from sklearn.metrics import confusion_matrix, classification_report\n",
        "import seaborn as sns\n",
        "import matplotlib.pyplot as plt\n",
        "\n",
        "# Predict the classes on the test set\n",
        "y_pred = opt.predict(X_test)\n",
        "\n",
        "# Convert the encoded labels back to their original form\n",
        "y_test_labels = le.inverse_transform(y_test)\n",
        "y_pred_labels = le.inverse_transform(y_pred)\n",
        "\n",
        "# Compute the confusion matrix\n",
        "cm = confusion_matrix(y_test_labels, y_pred_labels)\n",
        "\n",
        "# Plot the confusion matrix\n",
        "plt.figure(figsize=(10, 7))\n",
        "sns.heatmap(cm, annot=True, fmt='d')\n",
        "plt.title('Confusion Matrix')\n",
        "plt.ylabel('True label')\n",
        "plt.xlabel('Predicted label')\n",
        "plt.xticks(ticks=np.arange(len(le.classes_))+0.5, labels=le.classes_, rotation=90)\n",
        "plt.yticks(ticks=np.arange(len(le.classes_))+0.5, labels=le.classes_, rotation=0)\n",
        "plt.show()\n",
        "\n",
        "# Print the classification report\n",
        "print(classification_report(y_test_labels, y_pred_labels))"
      ]
    },
    {
      "cell_type": "markdown",
      "id": "7076a7f9",
      "metadata": {
        "id": "7076a7f9"
      },
      "source": [
        "# Conclusions\n",
        "\n",
        "Main conclusions are given in the report."
      ]
    },
    {
      "cell_type": "code",
      "execution_count": null,
      "id": "3354051a",
      "metadata": {
        "id": "3354051a"
      },
      "outputs": [],
      "source": []
    }
  ],
  "metadata": {
    "accelerator": "GPU",
    "colab": {
      "gpuType": "T4",
      "include_colab_link": true,
      "provenance": []
    },
    "kaggle": {
      "accelerator": "nvidiaTeslaT4",
      "dataSources": [],
      "dockerImageVersionId": 30627,
      "isGpuEnabled": true,
      "isInternetEnabled": true,
      "language": "python",
      "sourceType": "notebook"
    },
    "kernelspec": {
      "display_name": "Python 3",
      "name": "python3"
    },
    "language_info": {
      "codemirror_mode": {
        "name": "ipython",
        "version": 3
      },
      "file_extension": ".py",
      "mimetype": "text/x-python",
      "name": "python",
      "nbconvert_exporter": "python",
      "pygments_lexer": "ipython3",
      "version": "3.11.9"
    }
  },
  "nbformat": 4,
  "nbformat_minor": 5
}
